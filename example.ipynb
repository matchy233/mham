{
 "cells": [
  {
   "cell_type": "code",
   "execution_count": null,
   "outputs": [],
   "source": [
    "# This cell can take some minutes to run\n",
    "# You should only need to run this cell once and not everytime you open the script\n",
    "# In case the plotting of the data below does not work because of the error \"Error displaying widget: model not found\"\n",
    "# First, try only running \"Run\" << \"Factory Reset\"\n",
    "# If this does not help, run this cell again and then \"Run\" << \"Factory Reset\"\n",
    "\n",
    "# IMPORTANT: After running this cell, go to the top of the page and select \"Run\" << \"Factory Reset\"\n",
    "!jupyter labextension install @jupyter-widgets/jupyterlab-manager jupyter-leaflet\n",
    "!pip install install nodejs"
   ],
   "metadata": {
    "collapsed": false,
    "pycharm": {
     "name": "#%%\n"
    }
   }
  },
  {
   "cell_type": "code",
   "execution_count": null,
   "outputs": [],
   "source": [
    "import matplotlib.pyplot as plt\n",
    "\n",
    "# You may make changes to the Lilygo module but your algorithm must work with the original version\n",
    "# If you want to propose changes to the module, create a pull-request on github\n",
    "from Lilygo.Recording import Recording, data_integrity\n",
    "from Lilygo.Dataset import Dataset\n",
    "\n",
    "# For interactive graphs\n",
    "%matplotlib widget"
   ],
   "metadata": {
    "collapsed": false,
    "pycharm": {
     "name": "#%%\n"
    }
   }
  },
  {
   "cell_type": "markdown",
   "metadata": {
    "pycharm": {
     "name": "#%% md\n"
    }
   },
   "source": [
    "# Reading sensor data from JSON file\n",
    "\n",
    "Create an instance of the <code>Recording</code> class that manages the data from a file"
   ]
  },
  {
   "cell_type": "code",
   "execution_count": null,
   "metadata": {
    "tags": [],
    "pycharm": {
     "name": "#%%\n",
     "is_executing": true
    }
   },
   "outputs": [],
   "source": [
    "trace = Recording('/kaggle/input/mobile-health-2023-step-count/data/example/medium_walk.json', no_labels=True, mute=True)  # Second example file: data/example/short_walk.json\n",
    "\n",
    "trace.DataIntegrityCheck()\n",
    "\n",
    "# The data is stored inside a dictionary (access: trace.data[\"key\"])\n",
    "print(\"\\r\\nAvailable data traces:\")\n",
    "print(list(trace.data.keys()))\n",
    "\n",
    "if not(trace.labels is None):\n",
    "    print(\"\\r\\nLabels: \")\n",
    "    print(trace.labels)"
   ]
  },
  {
   "cell_type": "markdown",
   "metadata": {
    "tags": [],
    "pycharm": {
     "name": "#%% md\n"
    }
   },
   "source": [
    "## Working with timeseries\n",
    "Every value in this dictionary holds a <code>Dataset</code> object to manage the data from one sensor"
   ]
  },
  {
   "cell_type": "code",
   "execution_count": null,
   "metadata": {
    "pycharm": {
     "name": "#%%\n",
     "is_executing": true
    }
   },
   "outputs": [],
   "source": [
    "# X-axis of the LILYGO accelerometer\n",
    "ax = trace.data['ax']\n",
    "\n",
    "print(f\"Name of sensor: '{ax.title}'\")\n",
    "print(f\"Sample rate: {int(ax.samplerate)} Hz\")\n",
    "print(f\"Recording length: {ax.total_time} seconds\")\n",
    "print(f\"Timestamp of recording: {ax.raw_timestamps[0][1]}\")\n",
    "print(\"\\nGetting a time series:\")\n",
    "print(\" Time           x-Accel\")\n",
    "for x, t in list(zip(ax.timestamps, ax.values))[:20]:\n",
    "    print(f\"{x: .3f}s \\t{t:.5f}g\")"
   ]
  },
  {
   "cell_type": "markdown",
   "metadata": {
    "pycharm": {
     "name": "#%% md\n"
    }
   },
   "source": [
    "# Plotting"
   ]
  },
  {
   "cell_type": "code",
   "execution_count": null,
   "metadata": {
    "pycharm": {
     "name": "#%%\n",
     "is_executing": true
    }
   },
   "outputs": [],
   "source": [
    "# Display a simple plot\n",
    "trace.plot(['ax'])"
   ]
  },
  {
   "cell_type": "code",
   "execution_count": null,
   "metadata": {
    "pycharm": {
     "name": "#%%\n",
     "is_executing": true
    }
   },
   "outputs": [],
   "source": [
    "# Plot multiple axis at the same time\n",
    "# It's also possible to give titles to the y-axis and plots\n",
    "trace.plot(['ax', 'ay', 'az'], ylabels=['Accelerometer [g]'], labels=['Acc X', 'Acc Y', 'Acc Z'])"
   ]
  },
  {
   "cell_type": "code",
   "execution_count": null,
   "metadata": {
    "pycharm": {
     "name": "#%%\n",
     "is_executing": true
    }
   },
   "outputs": [],
   "source": [
    "# Plot multiple sensors and multiple axis at the same time\n",
    "trace.plot([['ax', 'ay', 'az'], ['gx', 'gy', 'gz'], ['mx', 'my', 'mz'], ['altitude'], ['speed']], \n",
    "             ylabels=['Accelerometer [g]', 'Gyroscope', 'Magnetometer', 'Elevation (m)', 'speed'],\n",
    "             labels=[['Acc X', 'Acc Y', 'Acc Z'], ['Gyro X', 'Gyro Y', 'Gyro Z'], ['Mag X', 'Mag Y', 'Mag Z'], ['altitude'], ['speed']])"
   ]
  },
  {
   "cell_type": "markdown",
   "metadata": {
    "pycharm": {
     "name": "#%% md\n"
    }
   },
   "source": [
    "# Display GPS data"
   ]
  },
  {
   "cell_type": "code",
   "execution_count": null,
   "outputs": [],
   "source": [
    "# Trace must contain gps data\n",
    "assert('latitude' in trace.data and 'longitude' in trace.data)\n",
    "\n",
    "plot_map_zurich = True\n",
    "\n",
    "# Visualize the path of the trace\n",
    "fig, ax = plt.subplots(figsize = (11,6))\n",
    "ax.scatter(trace.data['longitude'].values, trace.data['latitude'].values, zorder=1, alpha= 0.9, c='b', s=10)\n",
    "ax.set_title('Visualization of the path')\n",
    "\n",
    "if plot_map_zurich:\n",
    "    # Bounding coordinates for map\n",
    "    BBox = (8.5373,8.5593,\n",
    "            47.3673, 47.3880)\n",
    "    # Load map of Zurich\n",
    "    ruh_m = plt.imread('/kaggle/input/mobile-health-2023-step-count/mapzurich.png')\n",
    "    ax.set_title('GPS visualization in Zurich')\n",
    "    ax.set_xlim(BBox[0],BBox[1])\n",
    "    ax.set_ylim(BBox[2],BBox[3])\n",
    "    ax.imshow(ruh_m, zorder=0, extent = BBox)"
   ],
   "metadata": {
    "collapsed": false,
    "pycharm": {
     "name": "#%%\n",
     "is_executing": true
    }
   }
  },
  {
   "cell_type": "markdown",
   "metadata": {
    "tags": [],
    "pycharm": {
     "name": "#%% md\n"
    }
   },
   "source": [
    "# Generate computed traces\n",
    "\n",
    "Small example that adds an accelerometer magnitude trace\n",
    "\n",
    "<code>Dataset.fromLists(name, values, timestamps)</code> can be used to save a new or modified sensor into the Recording object.\n",
    "\n",
    "<code>name</code>: used for plotting  \n",
    "<code>values</code>: modified values  \n",
    "<code>timestamps</code>: list of timestamps, one timestamp per value, usually directly taken from the original data\n",
    "\n",
    "Note: This change is only executed locally and not saved to the json file. Everytime you reload your dataset, you have to re-execute this calculation\n"
   ]
  },
  {
   "cell_type": "code",
   "execution_count": null,
   "metadata": {
    "pycharm": {
     "name": "#%%\n",
     "is_executing": true
    }
   },
   "outputs": [],
   "source": [
    "from math import sqrt\n",
    "\n",
    "# Trace must contain lilygo accelerometer data\n",
    "assert('ax' in trace.data and 'ay' in trace.data and 'az' in trace.data)\n",
    "# And those traces must be of the same length\n",
    "assert(len(trace.data['ax'].values) == len(trace.data['ay'].values)  and len(trace.data['ax'].values) == len(trace.data['az'].values) )\n",
    "\n",
    "magn = [sqrt(a**2+trace.data['ay'].values[i]**2+trace.data['az'].values[i]**2)for i, a in enumerate(trace.data['ax'].values)]\n",
    "\n",
    "trace.data['amagn'] = Dataset.fromLists('Accelerometer magnitude', magn, trace.data['ax'].timestamps)\n",
    "\n",
    "trace.plot([['ax', 'ay', 'az'], ['amagn']])"
   ]
  },
  {
   "cell_type": "markdown",
   "metadata": {
    "pycharm": {
     "name": "#%% md\n"
    }
   },
   "source": [
    "# FYI: How timestamps are handeled (you probably don't need this)\n",
    "\n",
    "Every time the app receives a bluetooth package, up to 16 sensor values are stored at once together with the current timestamp. So not every sensor reading has a 100% perfectly defined timestamp.\n",
    "\n",
    "Every <code>Dataset</code> has a list of <code>raw_timestamps</code> which are tuples of type <code>(packet number, timestamp)</code>\n",
    "\n",
    "The timestamps are standard unix timestamps in milliseconds\n",
    "\n",
    "For example the first two entries say \"The 0th value came in at 1641564932653, the 16th value at 1641564932694\""
   ]
  },
  {
   "cell_type": "code",
   "execution_count": null,
   "metadata": {
    "pycharm": {
     "name": "#%%\n",
     "is_executing": true
    }
   },
   "outputs": [],
   "source": [
    "trace.data['ax'].raw_timestamps[-1][1]-trace.data['ax'].raw_timestamps[0][1]"
   ]
  },
  {
   "cell_type": "markdown",
   "metadata": {
    "pycharm": {
     "name": "#%% md\n"
    }
   },
   "source": [
    "The LILYGO uses a FIFO with a constant sample rate, so it should be a fair assumption, that the delay between two consecutive reaings always is the same.\n",
    "\n",
    "By default the <code>Dataset.timestamps</code> list is linearly interpolated between the first and the last timestamps (<code>linspace(0, last_timestamp, num=len(values))</code>)"
   ]
  },
  {
   "cell_type": "code",
   "execution_count": null,
   "metadata": {
    "pycharm": {
     "name": "#%%\n",
     "is_executing": true
    }
   },
   "outputs": [],
   "source": [
    "# Compare \"ideal\" interpolated timestamps against actual received timestamps\n",
    "trace.data['ideal_ts'] = Dataset('ideal_ts', \n",
    "                                   [trace.data['timestamp'].values[0],trace.data['timestamp'].values[-1]], \n",
    "                                   [(0,trace.data['timestamp'].values[0]), \n",
    "                                    (len(trace.data['timestamp'].values), trace.data['timestamp'].values[-1])])\n",
    "trace.plot(['timestamp', 'ideal_ts'], labels=['Received timestamps', 'Calculated Timestamps'], ylabels=['ms'])"
   ]
  }
 ],
 "metadata": {
  "kernelspec": {
   "display_name": "Python 3 (ipykernel)",
   "language": "python",
   "name": "python3"
  },
  "language_info": {
   "codemirror_mode": {
    "name": "ipython",
    "version": 3
   },
   "file_extension": ".py",
   "mimetype": "text/x-python",
   "name": "python",
   "nbconvert_exporter": "python",
   "pygments_lexer": "ipython3",
   "version": "3.9.7"
  }
 },
 "nbformat": 4,
 "nbformat_minor": 4
}