{
 "cells": [
  {
   "cell_type": "code",
   "execution_count": 1,
   "id": "54e625f1",
   "metadata": {
    "execution": {
     "iopub.execute_input": "2023-03-25T21:36:59.906470Z",
     "iopub.status.busy": "2023-03-25T21:36:59.906075Z",
     "iopub.status.idle": "2023-03-25T21:36:59.911642Z",
     "shell.execute_reply": "2023-03-25T21:36:59.909896Z"
    },
    "papermill": {
     "duration": 0.015474,
     "end_time": "2023-03-25T21:36:59.914555",
     "exception": false,
     "start_time": "2023-03-25T21:36:59.899081",
     "status": "completed"
    },
    "pycharm": {
     "name": "#%%\n"
    },
    "tags": []
   },
   "outputs": [],
   "source": [
    "# This is the template for the submission. If you want, you can develop your algorithm in a regular Python script and copy the code here for submission.\n",
    "\n",
    "# Team members (e-mail, legi):\n",
    "# chozhang@ethz.ch, 22-945-562\n",
    "# minghli@student.ethz.ch, 22-953-293\n",
    "# changli@student.ethz.ch, 22-944-474"
   ]
  },
  {
   "cell_type": "code",
   "execution_count": 2,
   "id": "499bb05a",
   "metadata": {
    "execution": {
     "iopub.execute_input": "2023-03-25T21:36:59.924680Z",
     "iopub.status.busy": "2023-03-25T21:36:59.924298Z",
     "iopub.status.idle": "2023-03-25T21:36:59.934476Z",
     "shell.execute_reply": "2023-03-25T21:36:59.933617Z"
    },
    "papermill": {
     "duration": 0.018636,
     "end_time": "2023-03-25T21:36:59.937509",
     "exception": false,
     "start_time": "2023-03-25T21:36:59.918873",
     "status": "completed"
    },
    "tags": []
   },
   "outputs": [],
   "source": [
    "# If you are in Kaggle, first go to notebook settings and add data from the stepcount competition\n",
    "# The competition name is: Mobile Health 2023 - Step Count Submission\n",
    "# After importing the dataset, run this code block to add Lilygo to the path\n",
    "import os\n",
    "import sys\n",
    "curr_environ = os.environ.get('KAGGLE_KERNEL_RUN_TYPE', 'Localhost')\n",
    "if curr_environ != 'Localhost': \n",
    "    sys.path.append(\"/kaggle/input\")\n",
    "    input_dir = '/kaggle/input/mobile-health-2023-step-count'\n",
    "else:\n",
    "    input_dir = os.path.abspath('')"
   ]
  },
  {
   "cell_type": "code",
   "execution_count": 3,
   "id": "37e2ac68",
   "metadata": {
    "collapsed": false,
    "execution": {
     "iopub.execute_input": "2023-03-25T21:36:59.947495Z",
     "iopub.status.busy": "2023-03-25T21:36:59.947124Z",
     "iopub.status.idle": "2023-03-25T21:37:00.908684Z",
     "shell.execute_reply": "2023-03-25T21:37:00.907278Z"
    },
    "jupyter": {
     "outputs_hidden": false
    },
    "papermill": {
     "duration": 0.9696,
     "end_time": "2023-03-25T21:37:00.911391",
     "exception": false,
     "start_time": "2023-03-25T21:36:59.941791",
     "status": "completed"
    },
    "pycharm": {
     "name": "#%%\n"
    },
    "tags": []
   },
   "outputs": [],
   "source": [
    "import pandas as pd\n",
    "import numpy as np\n",
    "from scipy import signal\n",
    "\n",
    "from Lilygo.Recording import Recording\n",
    "from Lilygo.Dataset import Dataset\n",
    "from os import listdir\n",
    "from os.path import isfile, join\n",
    "\n",
    "import matplotlib.pyplot as plt\n",
    "# %matplotlib inline"
   ]
  },
  {
   "cell_type": "code",
   "execution_count": 4,
   "id": "23e93549",
   "metadata": {
    "execution": {
     "iopub.execute_input": "2023-03-25T21:37:00.921343Z",
     "iopub.status.busy": "2023-03-25T21:37:00.920608Z",
     "iopub.status.idle": "2023-03-25T21:37:01.151265Z",
     "shell.execute_reply": "2023-03-25T21:37:01.150175Z"
    },
    "papermill": {
     "duration": 0.238137,
     "end_time": "2023-03-25T21:37:01.153648",
     "exception": false,
     "start_time": "2023-03-25T21:37:00.915511",
     "status": "completed"
    },
    "tags": []
   },
   "outputs": [],
   "source": [
    "# for tuning parameters\n",
    "from sklearn.model_selection import GridSearchCV\n",
    "from sklearn.base import BaseEstimator"
   ]
  },
  {
   "cell_type": "code",
   "execution_count": 5,
   "id": "dea041e3",
   "metadata": {
    "collapsed": false,
    "execution": {
     "iopub.execute_input": "2023-03-25T21:37:01.163587Z",
     "iopub.status.busy": "2023-03-25T21:37:01.163214Z",
     "iopub.status.idle": "2023-03-25T21:37:01.183770Z",
     "shell.execute_reply": "2023-03-25T21:37:01.182242Z"
    },
    "jupyter": {
     "outputs_hidden": false
    },
    "papermill": {
     "duration": 0.028759,
     "end_time": "2023-03-25T21:37:01.186511",
     "exception": false,
     "start_time": "2023-03-25T21:37:01.157752",
     "status": "completed"
    },
    "pycharm": {
     "name": "#%%\n"
    },
    "tags": []
   },
   "outputs": [],
   "source": [
    "# Get the path of all traces\n",
    "dir_traces = f'{input_dir}/data/traces'\n",
    "dir_labeled_traces = f'{input_dir}/data/labeled_traces'\n",
    "traces_fnames = [join(dir_traces, f)\n",
    "                 for f in listdir(dir_traces) if isfile(join(dir_traces, f))]\n",
    "labeled_traces_fnames = [join(dir_labeled_traces, f)\n",
    "                         for f in listdir(dir_labeled_traces) if isfile(join(dir_labeled_traces, f)) and not 'csv' in f]\n",
    "traces_fnames.sort()\n",
    "labeled_traces_fnames.sort()\n"
   ]
  },
  {
   "cell_type": "code",
   "execution_count": 6,
   "id": "f7b09e40",
   "metadata": {
    "execution": {
     "iopub.execute_input": "2023-03-25T21:37:01.196576Z",
     "iopub.status.busy": "2023-03-25T21:37:01.196186Z",
     "iopub.status.idle": "2023-03-25T21:37:01.216249Z",
     "shell.execute_reply": "2023-03-25T21:37:01.214682Z"
    },
    "papermill": {
     "duration": 0.028109,
     "end_time": "2023-03-25T21:37:01.218809",
     "exception": false,
     "start_time": "2023-03-25T21:37:01.190700",
     "status": "completed"
    },
    "tags": []
   },
   "outputs": [],
   "source": [
    "df = pd.read_csv(f'{input_dir}/data/labeled_traces/labels.csv')\n",
    "expected_counts = df['Expected'].to_list()"
   ]
  },
  {
   "cell_type": "code",
   "execution_count": 7,
   "id": "0909b439",
   "metadata": {
    "execution": {
     "iopub.execute_input": "2023-03-25T21:37:01.228469Z",
     "iopub.status.busy": "2023-03-25T21:37:01.228060Z",
     "iopub.status.idle": "2023-03-25T21:37:01.240514Z",
     "shell.execute_reply": "2023-03-25T21:37:01.238999Z"
    },
    "papermill": {
     "duration": 0.019712,
     "end_time": "2023-03-25T21:37:01.242560",
     "exception": false,
     "start_time": "2023-03-25T21:37:01.222848",
     "status": "completed"
    },
    "tags": []
   },
   "outputs": [],
   "source": [
    "### signal processing functions ###\n",
    "def parse(signal, ds_freq:float=20.0, zero_mean:bool=False):\n",
    "    \"\"\"downsampling the signal to specific frequency ds_freq, and make the data\n",
    "     with zero mean if zero_mean is True\"\"\"\n",
    "    ori_time_seq = np.array(signal.timestamps)\n",
    "    ori_value_seq = np.array(signal.values)\n",
    "    if zero_mean: ori_value_seq = ori_value_seq - np.mean(ori_value_seq)\n",
    "    dt = 1./ds_freq\n",
    "    time_seq = np.arange(start=np.min(ori_time_seq), stop=np.max(ori_time_seq), step=dt)\n",
    "    value_seq = np.interp(time_seq, ori_time_seq, ori_value_seq)\n",
    "    return time_seq, value_seq\n",
    "    \n",
    "def bp_filter(value_seq, fp:float=3, fs:float=20.0):\n",
    "    \"\"\"apply band pass filter to the sequence. fp is the threshold frequency,\n",
    "     and fs is the sampling frequency.\"\"\"\n",
    "    sos = signal.butter(N=4, Wn=[0.5,fp], btype='bandpass', fs=fs, output='sos')\n",
    "    filtered = signal.sosfilt(sos, value_seq)\n",
    "    return filtered\n",
    "    \n",
    "def get_envelop(value_seq, \n",
    "                fs:float=20, \n",
    "                half_window_size:float=0.5, \n",
    "                _min:float=20., \n",
    "                _max:float=500.):\n",
    "    \"\"\"\n",
    "    get the envelop as the adaptive local norm of the signal, currently the mode\n",
    "     of vector (no negative values). The envelop is calculated by the maximum in\n",
    "     a window, half_window_size is the seconds of time. _min and _max for clip.\n",
    "    \"\"\"\n",
    "    half_win = int(fs*half_window_size)\n",
    "    seq = np.concatenate([np.zeros((half_win,)),value_seq,np.zeros((half_win,))])\n",
    "    envelop = np.array([np.max(seq[k-half_win:k+half_win+1]) \n",
    "                        for k in range(half_win,half_win+len(value_seq))])\n",
    "    return np.clip(envelop, _min, _max)"
   ]
  },
  {
   "cell_type": "code",
   "execution_count": 8,
   "id": "bc6b17a6",
   "metadata": {
    "execution": {
     "iopub.execute_input": "2023-03-25T21:37:01.252152Z",
     "iopub.status.busy": "2023-03-25T21:37:01.251765Z",
     "iopub.status.idle": "2023-03-25T21:37:03.071018Z",
     "shell.execute_reply": "2023-03-25T21:37:03.069981Z"
    },
    "papermill": {
     "duration": 1.826802,
     "end_time": "2023-03-25T21:37:03.073550",
     "exception": false,
     "start_time": "2023-03-25T21:37:01.246748",
     "status": "completed"
    },
    "tags": []
   },
   "outputs": [],
   "source": [
    "traces = [Recording(f, no_labels=True, mute=True) for f in traces_fnames]\n",
    "# not sure if I should change no_labels to False\n",
    "labeled_traces = [Recording(f, no_labels=True, mute=True) for f in labeled_traces_fnames]"
   ]
  },
  {
   "cell_type": "code",
   "execution_count": 9,
   "id": "06304b36",
   "metadata": {
    "execution": {
     "iopub.execute_input": "2023-03-25T21:37:03.083040Z",
     "iopub.status.busy": "2023-03-25T21:37:03.082668Z",
     "iopub.status.idle": "2023-03-25T21:37:03.100358Z",
     "shell.execute_reply": "2023-03-25T21:37:03.099335Z"
    },
    "papermill": {
     "duration": 0.025002,
     "end_time": "2023-03-25T21:37:03.102705",
     "exception": false,
     "start_time": "2023-03-25T21:37:03.077703",
     "status": "completed"
    },
    "tags": []
   },
   "outputs": [],
   "source": [
    "class StepCounter(BaseEstimator):\n",
    "    def __init__(self, acc_min=1.,  acc_max=3.,    acc_height=0.25,\n",
    "                 gyro_min=20., gyro_max=500., gyro_height=0.5,\n",
    "                 acc_weight=1.0, half_window_size=0.5, width=0.5):\n",
    "        self.acc_min = acc_min\n",
    "        self.acc_max = acc_max\n",
    "        self.acc_height = acc_height\n",
    "        self.gyro_min = gyro_min\n",
    "        self.gyro_max = gyro_max\n",
    "        self.gyro_height = gyro_height\n",
    "        self.acc_weight = acc_weight\n",
    "        self.half_window_size = half_window_size\n",
    "        self.width = width\n",
    "\n",
    "    def fit(self, data, labels):\n",
    "        # no learning actually, just to fit the estimator interface\n",
    "        return self\n",
    "\n",
    "    def score(self, X, y_true, sample_weight=None, normalize=True) -> float:\n",
    "        '''\n",
    "        Get the \"score\" of the step counting result. \n",
    "        The score is calculated based on how different the step count is from the true values\n",
    "        '''\n",
    "        y_predicted = self.predict(X)\n",
    "        diff = y_predicted - y_true\n",
    "        scores = np.zeros(len(diff))\n",
    "        for i in range(len(diff)):\n",
    "            s = - abs(diff[i])\n",
    "            scores[i] = s\n",
    "        if normalize:\n",
    "            return np.average(scores, weights=sample_weight)\n",
    "        elif sample_weight is not None:\n",
    "            return np.dot(scores, sample_weight)\n",
    "        else:\n",
    "            return scores.sum()\n",
    "\n",
    "    def predict(self, traces):\n",
    "        # assume array\n",
    "        if hasattr(traces, '__len__'):\n",
    "            res = np.zeros(len(traces))\n",
    "            _traces = traces\n",
    "        else:\n",
    "            res = np.zeros(1)\n",
    "            _traces = [traces]\n",
    "        i = 0\n",
    "        for trace in _traces:\n",
    "            data = trace.data\n",
    "            # accelerator data\n",
    "            ax, ay, az = data['ax'], data['ay'], data['az']\n",
    "            # gyroscope data\n",
    "            gx, gy, gz = data['gx'], data['gy'], data['gz']\n",
    "            acc_step_counts = self._count_steps(ax, ay, az,\n",
    "                                                _max=self.acc_max,\n",
    "                                                _min=self.acc_min,\n",
    "                                                _height=self.acc_height\n",
    "                                                half_window_size=self.half_window_size,\n",
    "                                                width=self.width)\n",
    "            gyro_step_counts = 0\n",
    "            if self.acc_weight != 1.0:\n",
    "                gyro_step_counts = self._count_steps(gx, gy, gz,\n",
    "                                                    _max=self.gyro_max,\n",
    "                                                    _min=self.gyro_min,\n",
    "                                                    _height=self.gyro_height,\n",
    "                                                    half_window_size=self.half_window_size,\n",
    "                                                    width=self.width)\n",
    "            res[i] = int(self.acc_weight * acc_step_counts +\n",
    "                         (1.0 - self.acc_weight) * gyro_step_counts)\n",
    "            i += 1\n",
    "        if len(res) == 1:\n",
    "            return res[0]\n",
    "        else:\n",
    "            return res\n",
    "\n",
    "    def _count_steps(self, ax, ay, az, _max, _min, _height,\n",
    "                     half_window_size=0.5, width=0.5):\n",
    "        # interval of m and temp: 80ms; others 50ms\n",
    "        # acc are in unit \"g\". gyro should be within -255, 255\n",
    "        g_t, gx_v = parse(ax)  # use acceleration seems better.\n",
    "        _, gy_v = parse(ay)\n",
    "        _, gz_v = parse(az)\n",
    "\n",
    "        # calculate the mode.\n",
    "        g_v = np.sqrt(np.sum(np.square([gx_v, gy_v, gz_v]), axis=0))\n",
    "        g_v /= get_envelop(g_v,\n",
    "                           half_window_size=half_window_size,\n",
    "                           _min=_min,\n",
    "                           _max=_max)  # an adaptive local norm\n",
    "        # band pass\n",
    "        filtered_gv = bp_filter(g_v)\n",
    "        # amp 1/4 after filtering, should be amplified 4x.\n",
    "        filtered_gv = filtered_gv * (filtered_gv > 0) * 4\n",
    "\n",
    "        # 0.5 optimal for gyro. not tuned for acc but I am lazy.\n",
    "        peaks, _ = signal.find_peaks(filtered_gv,\n",
    "                                     width=width,\n",
    "                                     height=_height,\n",
    "                                     distance=20 * 0.2)\n",
    "        # when _min=20 for acc, height=0.01 looks good. sota: _min=1, height=0.25\n",
    "        step_count = len(peaks)  # peaks are the steps.\n",
    "        return step_count\n"
   ]
  },
  {
   "cell_type": "code",
   "execution_count": 10,
   "id": "6d8edaea",
   "metadata": {
    "execution": {
     "iopub.execute_input": "2023-03-25T21:37:03.112427Z",
     "iopub.status.busy": "2023-03-25T21:37:03.112092Z",
     "iopub.status.idle": "2023-03-25T21:37:03.117547Z",
     "shell.execute_reply": "2023-03-25T21:37:03.116589Z"
    },
    "papermill": {
     "duration": 0.01277,
     "end_time": "2023-03-25T21:37:03.119545",
     "exception": false,
     "start_time": "2023-03-25T21:37:03.106775",
     "status": "completed"
    },
    "tags": []
   },
   "outputs": [],
   "source": [
    "# This code block is for parameter tuning and will take decades to finish\n",
    "# do not run unless you want to tune param\n",
    "# step_counter = StepCounter()\n",
    "# parameters = {\n",
    "#     \"acc_min\": np.arange(1.0, 2.5, step=0.05),\n",
    "#     \"acc_height\": [ 0.25 ],\n",
    "#     \"acc_weight\": [ 1.0 ]\n",
    "# }\n",
    "# param_tuner = GridSearchCV(step_counter, parameters, cv=len(labeled_traces))\n",
    "# param_tuner.fit(labeled_traces, expected_counts)\n",
    "\n",
    "# print(param_tuner.best_score_)\n",
    "# print(param_tuner.best_params_)"
   ]
  },
  {
   "cell_type": "markdown",
   "id": "a51a063f",
   "metadata": {
    "papermill": {
     "duration": 0.003586,
     "end_time": "2023-03-25T21:37:03.127101",
     "exception": false,
     "start_time": "2023-03-25T21:37:03.123515",
     "status": "completed"
    },
    "tags": []
   },
   "source": [
    "Below is the template"
   ]
  },
  {
   "cell_type": "code",
   "execution_count": 11,
   "id": "c47cef88",
   "metadata": {
    "execution": {
     "iopub.execute_input": "2023-03-25T21:37:03.137465Z",
     "iopub.status.busy": "2023-03-25T21:37:03.136166Z",
     "iopub.status.idle": "2023-03-25T21:37:03.143953Z",
     "shell.execute_reply": "2023-03-25T21:37:03.142824Z"
    },
    "papermill": {
     "duration": 0.015558,
     "end_time": "2023-03-25T21:37:03.146405",
     "exception": false,
     "start_time": "2023-03-25T21:37:03.130847",
     "status": "completed"
    },
    "tags": []
   },
   "outputs": [],
   "source": [
    "# Get the path of all traces\n",
    "dir_traces = '/kaggle/input/mobile-health-2023-step-count/data/traces'\n",
    "filenames = [join(dir_traces, f) for f in listdir(dir_traces) if isfile(join(dir_traces, f))]\n",
    "filenames.sort()"
   ]
  },
  {
   "cell_type": "code",
   "execution_count": 12,
   "id": "fdf892bc",
   "metadata": {
    "collapsed": false,
    "execution": {
     "iopub.execute_input": "2023-03-25T21:37:03.156709Z",
     "iopub.status.busy": "2023-03-25T21:37:03.156041Z",
     "iopub.status.idle": "2023-03-25T21:37:03.715067Z",
     "shell.execute_reply": "2023-03-25T21:37:03.713941Z"
    },
    "jupyter": {
     "outputs_hidden": false
    },
    "papermill": {
     "duration": 0.566705,
     "end_time": "2023-03-25T21:37:03.717429",
     "exception": false,
     "start_time": "2023-03-25T21:37:03.150724",
     "status": "completed"
    },
    "pycharm": {
     "name": "#%%\n"
    },
    "tags": []
   },
   "outputs": [
    {
     "name": "stdout",
     "output_type": "stream",
     "text": [
      "[101.0, 195.0, 94.0, 93.0, 107.0, 109.0, 118.0, 37.0, 149.0, 53.0]\n"
     ]
    }
   ],
   "source": [
    "# Loop through all traces and calculate the step count for each trace\n",
    "stepCounts = []\n",
    "ids = []\n",
    "best_step_counter = StepCounter(acc_min=2, acc_height=0.25)\n",
    "for filename in filenames:\n",
    "    trace = Recording(filename, no_labels=True, mute=True)\n",
    "    stepCount = 0  # This is your variable of the step counting that you need to change\n",
    "\n",
    "    #\n",
    "    # Your algorithm goes here\n",
    "    # Make sure, you only use data from the LilyGo Wristband, namely the following 10 keys (as in trace.data[key]):\n",
    "    # 3-axis accelerometer: key in [ax, ay, az]\n",
    "    # 3-axis gyro: key in [gx, gy, gz]\n",
    "    # 3-axis magnetometer: key in [mx, my, mz]\n",
    "    # IMU temperature: key==temperature\n",
    "    #\n",
    "    stepCount = best_step_counter.predict(trace)\n",
    "\n",
    "    # Append your calculated step counts and the id of the trace to the corresponding array\n",
    "    stepCounts.append(stepCount)\n",
    "    ids.append(filename.split('_')[1][:2])\n",
    "print(stepCounts)"
   ]
  },
  {
   "cell_type": "code",
   "execution_count": 13,
   "id": "9bf2b613",
   "metadata": {
    "collapsed": false,
    "execution": {
     "iopub.execute_input": "2023-03-25T21:37:03.730092Z",
     "iopub.status.busy": "2023-03-25T21:37:03.729652Z",
     "iopub.status.idle": "2023-03-25T21:37:03.743807Z",
     "shell.execute_reply": "2023-03-25T21:37:03.742511Z"
    },
    "jupyter": {
     "outputs_hidden": false
    },
    "papermill": {
     "duration": 0.023307,
     "end_time": "2023-03-25T21:37:03.746737",
     "exception": false,
     "start_time": "2023-03-25T21:37:03.723430",
     "status": "completed"
    },
    "pycharm": {
     "name": "#%%\n"
    },
    "tags": []
   },
   "outputs": [],
   "source": [
    "# Write the detected step counts into a .csv file to then upload the .csv file to Kaggle\n",
    "# When cross-checking the .csv file on your computer, we recommend using the text editor and NOT excel so that the results are displayed correctly\n",
    "# IMPORTANT: Do NOT change the name of the columns ('Id' and 'Predicted') of the .csv file\n",
    "df = pd.DataFrame({'Id':ids,'Predicted':stepCounts})\n",
    "df.to_csv('/kaggle/working/submission.csv', index=False)"
   ]
  }
 ],
 "metadata": {
  "kernelspec": {
   "display_name": "Python 3",
   "language": "python",
   "name": "python3"
  },
  "language_info": {
   "codemirror_mode": {
    "name": "ipython",
    "version": 3
   },
   "file_extension": ".py",
   "mimetype": "text/x-python",
   "name": "python",
   "nbconvert_exporter": "python",
   "pygments_lexer": "ipython3",
   "version": "3.7.12"
  },
  "papermill": {
   "default_parameters": {},
   "duration": 13.796703,
   "end_time": "2023-03-25T21:37:04.675440",
   "environment_variables": {},
   "exception": null,
   "input_path": "__notebook__.ipynb",
   "output_path": "__notebook__.ipynb",
   "parameters": {},
   "start_time": "2023-03-25T21:36:50.878737",
   "version": "2.4.0"
  }
 },
 "nbformat": 4,
 "nbformat_minor": 5
}
