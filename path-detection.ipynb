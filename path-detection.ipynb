{
 "cells": [
  {
   "cell_type": "code",
   "execution_count": 1,
   "id": "f247d3a3",
   "metadata": {
    "execution": {
     "iopub.execute_input": "2023-05-14T10:53:23.863958Z",
     "iopub.status.busy": "2023-05-14T10:53:23.863520Z",
     "iopub.status.idle": "2023-05-14T10:53:23.869271Z",
     "shell.execute_reply": "2023-05-14T10:53:23.868203Z"
    },
    "papermill": {
     "duration": 0.018194,
     "end_time": "2023-05-14T10:53:23.873152",
     "exception": false,
     "start_time": "2023-05-14T10:53:23.854958",
     "status": "completed"
    },
    "pycharm": {
     "name": "#%%\n"
    },
    "tags": []
   },
   "outputs": [],
   "source": [
    "# This is the template for the submission. If you want, you can develop your algorithm in a regular Python script and copy the code here for submission.\n",
    "\n",
    "# Team members (e-mail, legi):\n",
    "# chozhang@student.ethz.ch, 22-945-562\n",
    "# minghli@student.ethz.ch, 22-953-293\n",
    "# changli@student.ethz.ch, 22-944-474"
   ]
  },
  {
   "cell_type": "code",
   "execution_count": 2,
   "id": "ffa7f029",
   "metadata": {
    "execution": {
     "iopub.execute_input": "2023-05-14T10:53:23.888628Z",
     "iopub.status.busy": "2023-05-14T10:53:23.888212Z",
     "iopub.status.idle": "2023-05-14T10:53:23.900064Z",
     "shell.execute_reply": "2023-05-14T10:53:23.898822Z"
    },
    "papermill": {
     "duration": 0.022426,
     "end_time": "2023-05-14T10:53:23.902381",
     "exception": false,
     "start_time": "2023-05-14T10:53:23.879955",
     "status": "completed"
    },
    "tags": []
   },
   "outputs": [],
   "source": [
    "import os\n",
    "import sys\n",
    "curr_environ = os.environ.get('KAGGLE_KERNEL_RUN_TYPE', 'Localhost')\n",
    "if curr_environ != 'Localhost': \n",
    "    sys.path.append('/kaggle/input/mobile-health-2023-path-detection')\n",
    "    input_dir = '/kaggle/input/mobile-health-2023-path-detection'\n",
    "else:\n",
    "    input_dir = os.path.abspath('')"
   ]
  },
  {
   "cell_type": "code",
   "execution_count": 3,
   "id": "9540e971",
   "metadata": {
    "collapsed": false,
    "execution": {
     "iopub.execute_input": "2023-05-14T10:53:23.917655Z",
     "iopub.status.busy": "2023-05-14T10:53:23.917218Z",
     "iopub.status.idle": "2023-05-14T10:53:24.282035Z",
     "shell.execute_reply": "2023-05-14T10:53:24.281154Z"
    },
    "jupyter": {
     "outputs_hidden": false
    },
    "papermill": {
     "duration": 0.37552,
     "end_time": "2023-05-14T10:53:24.284583",
     "exception": false,
     "start_time": "2023-05-14T10:53:23.909063",
     "status": "completed"
    },
    "pycharm": {
     "name": "#%%\n"
    },
    "tags": []
   },
   "outputs": [
    {
     "name": "stderr",
     "output_type": "stream",
     "text": [
      "/opt/conda/lib/python3.10/site-packages/scipy/__init__.py:146: UserWarning: A NumPy version >=1.16.5 and <1.23.0 is required for this version of SciPy (detected version 1.23.5\n",
      "  warnings.warn(f\"A NumPy version >={np_minversion} and <{np_maxversion}\"\n"
     ]
    }
   ],
   "source": [
    "import numpy as np\n",
    "import pandas as pd\n",
    "\n",
    "from Lilygo.Recording import Recording\n",
    "from Lilygo.Dataset import Dataset\n",
    "from os import listdir\n",
    "from os.path import isfile, join"
   ]
  },
  {
   "cell_type": "code",
   "execution_count": 4,
   "id": "f0438c48",
   "metadata": {
    "execution": {
     "iopub.execute_input": "2023-05-14T10:53:24.299905Z",
     "iopub.status.busy": "2023-05-14T10:53:24.299119Z",
     "iopub.status.idle": "2023-05-14T10:53:25.296983Z",
     "shell.execute_reply": "2023-05-14T10:53:25.295819Z"
    },
    "papermill": {
     "duration": 1.008618,
     "end_time": "2023-05-14T10:53:25.299874",
     "exception": false,
     "start_time": "2023-05-14T10:53:24.291256",
     "status": "completed"
    },
    "tags": []
   },
   "outputs": [],
   "source": [
    "# for signal processing and calculations\n",
    "from scipy import signal\n",
    "\n",
    "# for tuning parameters\n",
    "from sklearn.model_selection import GridSearchCV\n",
    "from sklearn.base import BaseEstimator"
   ]
  },
  {
   "cell_type": "markdown",
   "id": "2a83c03f",
   "metadata": {
    "papermill": {
     "duration": 0.006535,
     "end_time": "2023-05-14T10:53:25.313541",
     "exception": false,
     "start_time": "2023-05-14T10:53:25.307006",
     "status": "completed"
    },
    "tags": []
   },
   "source": [
    "# Tasks\n",
    "\n",
    "## Step Count"
   ]
  },
  {
   "cell_type": "code",
   "execution_count": 5,
   "id": "4b0d14c0",
   "metadata": {
    "execution": {
     "iopub.execute_input": "2023-05-14T10:53:25.328399Z",
     "iopub.status.busy": "2023-05-14T10:53:25.328002Z",
     "iopub.status.idle": "2023-05-14T10:53:25.340713Z",
     "shell.execute_reply": "2023-05-14T10:53:25.339599Z"
    },
    "papermill": {
     "duration": 0.023373,
     "end_time": "2023-05-14T10:53:25.343377",
     "exception": false,
     "start_time": "2023-05-14T10:53:25.320004",
     "status": "completed"
    },
    "tags": []
   },
   "outputs": [],
   "source": [
    "### signal processing functions ###\n",
    "def parse(signal, ds_freq:float=20.0, zero_mean:bool=False):\n",
    "    \"\"\"downsampling the signal to specific frequency ds_freq, and make the data\n",
    "     with zero mean if zero_mean is True\"\"\"\n",
    "    ori_time_seq = np.array(signal.timestamps)\n",
    "    ori_value_seq = np.array(signal.values)\n",
    "    if zero_mean: ori_value_seq = ori_value_seq - np.mean(ori_value_seq)\n",
    "    dt = 1./ds_freq\n",
    "    time_seq = np.arange(start=np.min(ori_time_seq), stop=np.max(ori_time_seq), step=dt)\n",
    "    value_seq = np.interp(time_seq, ori_time_seq, ori_value_seq)\n",
    "    return time_seq, value_seq\n",
    "    \n",
    "def bp_filter(value_seq, fp:float=3, fs:float=20.0):\n",
    "    \"\"\"apply band pass filter to the sequence. fp is the threshold frequency,\n",
    "     and fs is the sampling frequency.\"\"\"\n",
    "    sos = signal.butter(N=4, Wn=[0.5,fp], btype='bandpass', fs=fs, output='sos')\n",
    "    filtered = signal.sosfilt(sos, value_seq)\n",
    "    return filtered\n",
    "    \n",
    "def get_envelop(value_seq, \n",
    "                fs:float=20, \n",
    "                half_window_size:float=0.5, \n",
    "                _min:float=20., \n",
    "                _max:float=500.):\n",
    "    \"\"\"\n",
    "    get the envelop as the adaptive local norm of the signal, currently the mode\n",
    "     of vector (no negative values). The envelop is calculated by the maximum in\n",
    "     a window, half_window_size is the seconds of time. _min and _max for clip.\n",
    "    \"\"\"\n",
    "    half_win = int(fs*half_window_size)\n",
    "    seq = np.concatenate([np.zeros((half_win,)),value_seq,np.zeros((half_win,))])\n",
    "    envelop = np.array([np.max(seq[k-half_win:k+half_win+1]) \n",
    "                        for k in range(half_win,half_win+len(value_seq))])\n",
    "    return np.clip(envelop, _min, _max)"
   ]
  },
  {
   "cell_type": "code",
   "execution_count": 6,
   "id": "9b683398",
   "metadata": {
    "execution": {
     "iopub.execute_input": "2023-05-14T10:53:25.358811Z",
     "iopub.status.busy": "2023-05-14T10:53:25.358196Z",
     "iopub.status.idle": "2023-05-14T10:53:25.379916Z",
     "shell.execute_reply": "2023-05-14T10:53:25.378976Z"
    },
    "papermill": {
     "duration": 0.032302,
     "end_time": "2023-05-14T10:53:25.382501",
     "exception": false,
     "start_time": "2023-05-14T10:53:25.350199",
     "status": "completed"
    },
    "tags": []
   },
   "outputs": [],
   "source": [
    "class StepCounter(BaseEstimator):\n",
    "    def __init__(self, acc_min=2.,  acc_max=3., acc_height=0.25,\n",
    "                 gyro_min=20., gyro_max=500., gyro_height=0.5,\n",
    "                 acc_weight=1.0, half_window_size=0.5, width=0.5):\n",
    "        self.acc_min = acc_min\n",
    "        self.acc_max = acc_max\n",
    "        self.acc_height = acc_height\n",
    "        self.gyro_min = gyro_min\n",
    "        self.gyro_max = gyro_max\n",
    "        self.gyro_height = gyro_height\n",
    "        self.acc_weight = acc_weight\n",
    "        self.half_window_size = half_window_size\n",
    "        self.width = width\n",
    "\n",
    "    def fit(self, data, labels):\n",
    "        # no learning actually, just to fit the estimator interface\n",
    "        return self\n",
    "\n",
    "    def score(self, X, y_true, sample_weight=None, normalize=True) -> float:\n",
    "        '''\n",
    "        Get the \"score\" of the step counting result. \n",
    "        The score is calculated based on how different the step count is from the true values\n",
    "        '''\n",
    "        y_predicted = self.predict(X)\n",
    "        diff = y_predicted - y_true\n",
    "        scores = np.zeros(len(diff))\n",
    "        for i in range(len(diff)):\n",
    "            s = - abs(diff[i])\n",
    "            scores[i] = s\n",
    "        if normalize:\n",
    "            return np.average(scores, weights=sample_weight)\n",
    "        elif sample_weight is not None:\n",
    "            return np.dot(scores, sample_weight)\n",
    "        else:\n",
    "            return scores.sum()\n",
    "\n",
    "    def predict(self, traces):\n",
    "        # assume array\n",
    "        if hasattr(traces, '__len__'):\n",
    "            res = np.zeros(len(traces), dtype=int)\n",
    "            _traces = traces\n",
    "        else:\n",
    "            res = np.zeros(1, dtype=int)\n",
    "            _traces = [traces]\n",
    "        i = 0\n",
    "        for trace in _traces:\n",
    "            data = trace.data\n",
    "            # accelerator data\n",
    "            ax, ay, az = data['ax'], data['ay'], data['az']\n",
    "            # gyroscope data\n",
    "            gx, gy, gz = data['gx'], data['gy'], data['gz']\n",
    "            acc_step_counts = self._count_steps(ax, ay, az,\n",
    "                                                _max=self.acc_max,\n",
    "                                                _min=self.acc_min,\n",
    "                                                _height=self.acc_height,\n",
    "                                                half_window_size=self.half_window_size,\n",
    "                                                width=self.width)\n",
    "            gyro_step_counts = 0\n",
    "            if self.acc_weight != 1.0:\n",
    "                gyro_step_counts = self._count_steps(gx, gy, gz,\n",
    "                                                    _max=self.gyro_max,\n",
    "                                                    _min=self.gyro_min,\n",
    "                                                    _height=self.gyro_height,\n",
    "                                                    half_window_size=self.half_window_size,\n",
    "                                                    width=self.width)\n",
    "            res[i] = int(self.acc_weight * acc_step_counts +\n",
    "                         (1.0 - self.acc_weight) * gyro_step_counts)\n",
    "            i += 1\n",
    "        if len(res) == 1:\n",
    "            return res[0]\n",
    "        else:\n",
    "            return res\n",
    "\n",
    "    def _count_steps(self, ax, ay, az, _max, _min, _height,\n",
    "                     half_window_size=0.5, width=0.5):\n",
    "        # interval of m and temp: 80ms; others 50ms\n",
    "        # acc are in unit \"g\". gyro should be within -255, 255\n",
    "        g_t, gx_v = parse(ax)  # use acceleration seems better.\n",
    "        _, gy_v = parse(ay)\n",
    "        _, gz_v = parse(az)\n",
    "\n",
    "        # calculate the mode.\n",
    "        g_v = np.sqrt(np.sum(np.square([gx_v, gy_v, gz_v]), axis=0))\n",
    "        g_v /= get_envelop(g_v,\n",
    "                           half_window_size=half_window_size,\n",
    "                           _min=_min,\n",
    "                           _max=_max)  # an adaptive local norm\n",
    "        # band pass\n",
    "        filtered_gv = bp_filter(g_v)\n",
    "        # amp 1/4 after filtering, should be amplified 4x.\n",
    "        filtered_gv = filtered_gv * (filtered_gv > 0) * 4\n",
    "\n",
    "        # 0.5 optimal for gyro. not tuned for acc but I am lazy.\n",
    "        peaks, _ = signal.find_peaks(filtered_gv,\n",
    "                                     height=_height,\n",
    "                                     distance=20 * 0.2)\n",
    "        # when _min=20 for acc, height=0.01 looks good. sota: _min=1, height=0.25\n",
    "        step_count = len(peaks)  # peaks are the steps.\n",
    "        return step_count\n"
   ]
  },
  {
   "cell_type": "markdown",
   "id": "5a078f49",
   "metadata": {
    "papermill": {
     "duration": 0.00623,
     "end_time": "2023-05-14T10:53:25.395333",
     "exception": false,
     "start_time": "2023-05-14T10:53:25.389103",
     "status": "completed"
    },
    "tags": []
   },
   "source": [
    "---\n",
    "\n",
    "## Smart Watch Location"
   ]
  },
  {
   "cell_type": "markdown",
   "id": "ae563d57",
   "metadata": {
    "papermill": {
     "duration": 0.006107,
     "end_time": "2023-05-14T10:53:25.407983",
     "exception": false,
     "start_time": "2023-05-14T10:53:25.401876",
     "status": "completed"
    },
    "tags": []
   },
   "source": [
    "According to [Kuntze et. al.](https://kaikunze.de/papers/pdf/kunze2005recognizing.pdf) it's sufficient to use a C4.5 decision tree + accelometer to do watch loc detection. (But that paper is very rudimentary)"
   ]
  },
  {
   "cell_type": "code",
   "execution_count": 7,
   "id": "ba7d8322",
   "metadata": {
    "execution": {
     "iopub.execute_input": "2023-05-14T10:53:25.422633Z",
     "iopub.status.busy": "2023-05-14T10:53:25.422164Z",
     "iopub.status.idle": "2023-05-14T10:53:25.428155Z",
     "shell.execute_reply": "2023-05-14T10:53:25.427097Z"
    },
    "papermill": {
     "duration": 0.016175,
     "end_time": "2023-05-14T10:53:25.430497",
     "exception": false,
     "start_time": "2023-05-14T10:53:25.414322",
     "status": "completed"
    },
    "tags": []
   },
   "outputs": [],
   "source": [
    "class WatchLocPredictor(BaseEstimator):\n",
    "    # required\n",
    "    def __init__(self):\n",
    "        pass\n",
    "\n",
    "    # required\n",
    "    def fit(self, data, labels):\n",
    "        pass\n",
    "\n",
    "    # required\n",
    "    def predict(self, trace: Recording):\n",
    "        return 0\n",
    "    "
   ]
  },
  {
   "cell_type": "markdown",
   "id": "46d9b8a3",
   "metadata": {
    "papermill": {
     "duration": 0.006486,
     "end_time": "2023-05-14T10:53:25.443553",
     "exception": false,
     "start_time": "2023-05-14T10:53:25.437067",
     "status": "completed"
    },
    "tags": []
   },
   "source": [
    "---\n",
    "\n",
    "## Path Index"
   ]
  },
  {
   "cell_type": "code",
   "execution_count": 8,
   "id": "485a82e5",
   "metadata": {
    "execution": {
     "iopub.execute_input": "2023-05-14T10:53:25.458420Z",
     "iopub.status.busy": "2023-05-14T10:53:25.457806Z",
     "iopub.status.idle": "2023-05-14T10:53:25.463594Z",
     "shell.execute_reply": "2023-05-14T10:53:25.462870Z"
    },
    "papermill": {
     "duration": 0.015795,
     "end_time": "2023-05-14T10:53:25.465724",
     "exception": false,
     "start_time": "2023-05-14T10:53:25.449929",
     "status": "completed"
    },
    "tags": []
   },
   "outputs": [],
   "source": [
    "class PathDetector(BaseEstimator):\n",
    "    # required\n",
    "    def __init__(self):\n",
    "        pass\n",
    "\n",
    "    # required\n",
    "    def fit(self, data, labels):\n",
    "        pass\n",
    "\n",
    "    # required\n",
    "    def predict(self, trace):\n",
    "        return 0"
   ]
  },
  {
   "cell_type": "markdown",
   "id": "1481e992",
   "metadata": {
    "papermill": {
     "duration": 0.006004,
     "end_time": "2023-05-14T10:53:25.478129",
     "exception": false,
     "start_time": "2023-05-14T10:53:25.472125",
     "status": "completed"
    },
    "tags": []
   },
   "source": [
    "---\n",
    "\n",
    "## Activity\n",
    "\n",
    "Activities contained in the data trace and performed for more than 60 s uninterrupted. \n",
    "\n",
    "Output as a list of integers: e.g., `[0, 3]` (`0`: standing still, `1`: walk, `2`: run, `3`: cycle). \n",
    "\n",
    "These do not need to be in the right order and they do not need to occur multiple times."
   ]
  },
  {
   "cell_type": "code",
   "execution_count": 9,
   "id": "742420b0",
   "metadata": {
    "execution": {
     "iopub.execute_input": "2023-05-14T10:53:25.492779Z",
     "iopub.status.busy": "2023-05-14T10:53:25.492152Z",
     "iopub.status.idle": "2023-05-14T10:53:25.497694Z",
     "shell.execute_reply": "2023-05-14T10:53:25.496887Z"
    },
    "papermill": {
     "duration": 0.015406,
     "end_time": "2023-05-14T10:53:25.499812",
     "exception": false,
     "start_time": "2023-05-14T10:53:25.484406",
     "status": "completed"
    },
    "tags": []
   },
   "outputs": [],
   "source": [
    "class ActivityPredictor(BaseEstimator):\n",
    "    # required\n",
    "    def __init__(self):\n",
    "        pass\n",
    "\n",
    "    # required\n",
    "    def fit(self, data, labels):\n",
    "        pass\n",
    "\n",
    "    # required\n",
    "    def predict(self, trace):\n",
    "        pass"
   ]
  },
  {
   "cell_type": "markdown",
   "id": "f09ad958",
   "metadata": {
    "papermill": {
     "duration": 0.006016,
     "end_time": "2023-05-14T10:53:25.512195",
     "exception": false,
     "start_time": "2023-05-14T10:53:25.506179",
     "status": "completed"
    },
    "tags": []
   },
   "source": [
    "---\n",
    "\n",
    "# Prediction"
   ]
  },
  {
   "cell_type": "code",
   "execution_count": 10,
   "id": "01b2f8de",
   "metadata": {
    "collapsed": false,
    "execution": {
     "iopub.execute_input": "2023-05-14T10:53:25.526772Z",
     "iopub.status.busy": "2023-05-14T10:53:25.526374Z",
     "iopub.status.idle": "2023-05-14T10:53:25.726498Z",
     "shell.execute_reply": "2023-05-14T10:53:25.725587Z"
    },
    "jupyter": {
     "outputs_hidden": false
    },
    "papermill": {
     "duration": 0.210354,
     "end_time": "2023-05-14T10:53:25.728945",
     "exception": false,
     "start_time": "2023-05-14T10:53:25.518591",
     "status": "completed"
    },
    "pycharm": {
     "is_executing": true,
     "name": "#%%\n"
    },
    "tags": []
   },
   "outputs": [],
   "source": [
    "# Get the path of all traces\n",
    "dir_traces = '/kaggle/input/mobile-health-2023-path-detection/data/test'\n",
    "filenames = [join(dir_traces, f) for f in listdir(dir_traces) if isfile(join(dir_traces, f))]\n",
    "filenames.sort()"
   ]
  },
  {
   "cell_type": "code",
   "execution_count": 11,
   "id": "6e15f8df",
   "metadata": {
    "execution": {
     "iopub.execute_input": "2023-05-14T10:53:25.744075Z",
     "iopub.status.busy": "2023-05-14T10:53:25.743435Z",
     "iopub.status.idle": "2023-05-14T10:53:25.747533Z",
     "shell.execute_reply": "2023-05-14T10:53:25.746721Z"
    },
    "papermill": {
     "duration": 0.01424,
     "end_time": "2023-05-14T10:53:25.749757",
     "exception": false,
     "start_time": "2023-05-14T10:53:25.735517",
     "status": "completed"
    },
    "tags": []
   },
   "outputs": [],
   "source": [
    "# initialize predictors\n",
    "step_counter = StepCounter()"
   ]
  },
  {
   "cell_type": "code",
   "execution_count": 12,
   "id": "099d3f3a",
   "metadata": {
    "collapsed": false,
    "execution": {
     "iopub.execute_input": "2023-05-14T10:53:25.765180Z",
     "iopub.status.busy": "2023-05-14T10:53:25.764444Z",
     "iopub.status.idle": "2023-05-14T10:53:56.897890Z",
     "shell.execute_reply": "2023-05-14T10:53:56.896679Z"
    },
    "jupyter": {
     "outputs_hidden": false
    },
    "papermill": {
     "duration": 31.144374,
     "end_time": "2023-05-14T10:53:56.900787",
     "exception": false,
     "start_time": "2023-05-14T10:53:25.756413",
     "status": "completed"
    },
    "pycharm": {
     "is_executing": true,
     "name": "#%%\n"
    },
    "tags": []
   },
   "outputs": [],
   "source": [
    "# Loop through all traces and calculate the step count for each trace\n",
    "solution_file = []\n",
    "for filename in filenames[:10]:\n",
    "    trace = Recording(filename, no_labels=True, mute=True)\n",
    "    categorization_results = {'watch_loc': 0, 'path_idx': 0, 'step_count': 0, 'stand': 0, 'walk': 0, 'run': 0, 'cycle': 0}\n",
    "\n",
    "    #\n",
    "    # Your algorithm goes here\n",
    "    # You can access the variable 'watch_loc' in the dictionary 'categorization_results' for example with\n",
    "    # categorization_results['watch_loc'] = 1\n",
    "    # Make sure, you do not use the gps data and are tolerant for missing data (see task set).\n",
    "    # Your program must not crash when single smartphone data traces are missing.\n",
    "    #\n",
    "    categorization_results['step_count'] = step_counter.predict(trace)\n",
    "\n",
    "    # Append your calculated results and the id of each trace and category to the solution file\n",
    "    trace_id = ''.join([*filename][-8:-5])\n",
    "    for counter_label, category in enumerate(categorization_results):\n",
    "        solution_file.append([trace_id + f'_{counter_label+1}', categorization_results[category]])\n"
   ]
  },
  {
   "cell_type": "code",
   "execution_count": 13,
   "id": "4d2c8ba0",
   "metadata": {
    "collapsed": false,
    "execution": {
     "iopub.execute_input": "2023-05-14T10:53:56.916461Z",
     "iopub.status.busy": "2023-05-14T10:53:56.915624Z",
     "iopub.status.idle": "2023-05-14T10:53:56.935395Z",
     "shell.execute_reply": "2023-05-14T10:53:56.934475Z"
    },
    "jupyter": {
     "outputs_hidden": false
    },
    "papermill": {
     "duration": 0.030108,
     "end_time": "2023-05-14T10:53:56.937990",
     "exception": false,
     "start_time": "2023-05-14T10:53:56.907882",
     "status": "completed"
    },
    "pycharm": {
     "is_executing": true,
     "name": "#%%\n"
    },
    "tags": []
   },
   "outputs": [],
   "source": [
    "# Write the detected step counts into a .csv file to then upload the .csv file to Kaggle\n",
    "# When cross-checking the .csv file on your computer, we recommend using the text editor and NOT excel so that the results are displayed correctly\n",
    "# IMPORTANT: Do NOT change the name of the columns ('Id' and 'Category') of the .csv file\n",
    "submission_file_df = pd.DataFrame(np.asarray(solution_file), columns=['Id', 'Category'])\n",
    "submission_file_df.to_csv('/kaggle/working/submission.csv', header=['Id', 'Category'], index=False)"
   ]
  }
 ],
 "metadata": {
  "kernelspec": {
   "display_name": "Python 3",
   "language": "python",
   "name": "python3"
  },
  "language_info": {
   "codemirror_mode": {
    "name": "ipython",
    "version": 3
   },
   "file_extension": ".py",
   "mimetype": "text/x-python",
   "name": "python",
   "nbconvert_exporter": "python",
   "pygments_lexer": "ipython3",
   "version": "3.10.10"
  },
  "papermill": {
   "default_parameters": {},
   "duration": 46.305074,
   "end_time": "2023-05-14T10:53:58.167660",
   "environment_variables": {},
   "exception": null,
   "input_path": "__notebook__.ipynb",
   "output_path": "__notebook__.ipynb",
   "parameters": {},
   "start_time": "2023-05-14T10:53:11.862586",
   "version": "2.4.0"
  }
 },
 "nbformat": 4,
 "nbformat_minor": 5
}
