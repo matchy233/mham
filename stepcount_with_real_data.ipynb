{
 "cells": [
  {
   "cell_type": "code",
   "execution_count": 1,
   "id": "28c5f155",
   "metadata": {
    "execution": {
     "iopub.execute_input": "2023-03-26T00:32:46.170130Z",
     "iopub.status.busy": "2023-03-26T00:32:46.169535Z",
     "iopub.status.idle": "2023-03-26T00:32:46.176966Z",
     "shell.execute_reply": "2023-03-26T00:32:46.175630Z"
    },
    "papermill": {
     "duration": 0.020354,
     "end_time": "2023-03-26T00:32:46.179537",
     "exception": false,
     "start_time": "2023-03-26T00:32:46.159183",
     "status": "completed"
    },
    "pycharm": {
     "name": "#%%\n"
    },
    "tags": []
   },
   "outputs": [],
   "source": [
    "# This is the template for the submission. If you want, you can develop your algorithm in a regular Python script and copy the code here for submission.\n",
    "\n",
    "# Team members (e-mail, legi):\n",
    "# chozhang@ethz.ch, 22-945-562\n",
    "# minghli@student.ethz.ch, 22-953-293\n",
    "# changli@student.ethz.ch, 22-944-474"
   ]
  },
  {
   "cell_type": "code",
   "execution_count": 2,
   "id": "bc479f13",
   "metadata": {
    "execution": {
     "iopub.execute_input": "2023-03-26T00:32:46.195004Z",
     "iopub.status.busy": "2023-03-26T00:32:46.194545Z",
     "iopub.status.idle": "2023-03-26T00:32:46.205611Z",
     "shell.execute_reply": "2023-03-26T00:32:46.204315Z"
    },
    "papermill": {
     "duration": 0.021503,
     "end_time": "2023-03-26T00:32:46.207992",
     "exception": false,
     "start_time": "2023-03-26T00:32:46.186489",
     "status": "completed"
    },
    "tags": []
   },
   "outputs": [],
   "source": [
    "# If you are in Kaggle, first go to notebook settings and add data from the stepcount competition\n",
    "# The competition name is: Mobile Health 2023 - Step Count Submission\n",
    "# After importing the dataset, run this code block to add Lilygo to the path\n",
    "import os\n",
    "import sys\n",
    "curr_environ = os.environ.get('KAGGLE_KERNEL_RUN_TYPE', 'Localhost')\n",
    "if curr_environ != 'Localhost': \n",
    "    sys.path.append('/kaggle/input/mobile-health-2023-step-count')\n",
    "    input_dir = '/kaggle/input/mobile-health-2023-step-count'\n",
    "else:\n",
    "    input_dir = os.path.abspath('')"
   ]
  },
  {
   "cell_type": "code",
   "execution_count": 3,
   "id": "3826fee4",
   "metadata": {
    "collapsed": false,
    "execution": {
     "iopub.execute_input": "2023-03-26T00:32:46.222947Z",
     "iopub.status.busy": "2023-03-26T00:32:46.222538Z",
     "iopub.status.idle": "2023-03-26T00:32:47.178544Z",
     "shell.execute_reply": "2023-03-26T00:32:47.176926Z"
    },
    "jupyter": {
     "outputs_hidden": false
    },
    "papermill": {
     "duration": 0.968194,
     "end_time": "2023-03-26T00:32:47.182819",
     "exception": false,
     "start_time": "2023-03-26T00:32:46.214625",
     "status": "completed"
    },
    "pycharm": {
     "name": "#%%\n"
    },
    "tags": []
   },
   "outputs": [],
   "source": [
    "import pandas as pd\n",
    "import numpy as np\n",
    "from scipy import signal\n",
    "\n",
    "from Lilygo.Recording import Recording\n",
    "from Lilygo.Dataset import Dataset\n",
    "from os import listdir\n",
    "from os.path import isfile, join\n",
    "\n",
    "import matplotlib.pyplot as plt\n",
    "# %matplotlib inline"
   ]
  },
  {
   "cell_type": "markdown",
   "id": "6c850e19",
   "metadata": {
    "papermill": {
     "duration": 0.006338,
     "end_time": "2023-03-26T00:32:47.196168",
     "exception": false,
     "start_time": "2023-03-26T00:32:47.189830",
     "status": "completed"
    },
    "tags": []
   },
   "source": [
    "---\n",
    "\n",
    "## Read data"
   ]
  },
  {
   "cell_type": "code",
   "execution_count": 4,
   "id": "a16d8d93",
   "metadata": {
    "execution": {
     "iopub.execute_input": "2023-03-26T00:32:47.212641Z",
     "iopub.status.busy": "2023-03-26T00:32:47.212077Z",
     "iopub.status.idle": "2023-03-26T00:32:47.439715Z",
     "shell.execute_reply": "2023-03-26T00:32:47.438554Z"
    },
    "papermill": {
     "duration": 0.2394,
     "end_time": "2023-03-26T00:32:47.442727",
     "exception": false,
     "start_time": "2023-03-26T00:32:47.203327",
     "status": "completed"
    },
    "tags": []
   },
   "outputs": [],
   "source": [
    "# for tuning parameters\n",
    "from sklearn.model_selection import GridSearchCV\n",
    "from sklearn.base import BaseEstimator"
   ]
  },
  {
   "cell_type": "code",
   "execution_count": 5,
   "id": "492c3766",
   "metadata": {
    "collapsed": false,
    "execution": {
     "iopub.execute_input": "2023-03-26T00:32:47.458892Z",
     "iopub.status.busy": "2023-03-26T00:32:47.457532Z",
     "iopub.status.idle": "2023-03-26T00:32:47.480989Z",
     "shell.execute_reply": "2023-03-26T00:32:47.479659Z"
    },
    "jupyter": {
     "outputs_hidden": false
    },
    "papermill": {
     "duration": 0.035338,
     "end_time": "2023-03-26T00:32:47.484865",
     "exception": false,
     "start_time": "2023-03-26T00:32:47.449527",
     "status": "completed"
    },
    "pycharm": {
     "name": "#%%\n"
    },
    "tags": []
   },
   "outputs": [],
   "source": [
    "# Get the path of all traces\n",
    "dir_traces = f'{input_dir}/data/traces'\n",
    "dir_labeled_traces = f'{input_dir}/data/labeled_traces'\n",
    "traces_fnames = [join(dir_traces, f)\n",
    "                 for f in listdir(dir_traces) if isfile(join(dir_traces, f))]\n",
    "labeled_traces_fnames = [join(dir_labeled_traces, f)\n",
    "                         for f in listdir(dir_labeled_traces) if isfile(join(dir_labeled_traces, f)) and not 'csv' in f]\n",
    "traces_fnames.sort()\n",
    "labeled_traces_fnames.sort()\n"
   ]
  },
  {
   "cell_type": "code",
   "execution_count": 6,
   "id": "79b544a5",
   "metadata": {
    "execution": {
     "iopub.execute_input": "2023-03-26T00:32:47.506168Z",
     "iopub.status.busy": "2023-03-26T00:32:47.505153Z",
     "iopub.status.idle": "2023-03-26T00:32:49.777289Z",
     "shell.execute_reply": "2023-03-26T00:32:49.776001Z"
    },
    "papermill": {
     "duration": 2.285004,
     "end_time": "2023-03-26T00:32:49.780073",
     "exception": false,
     "start_time": "2023-03-26T00:32:47.495069",
     "status": "completed"
    },
    "tags": []
   },
   "outputs": [],
   "source": [
    "traces = [Recording(f, no_labels=True, mute=True) for f in traces_fnames]\n",
    "# not sure if I should change no_labels to False\n",
    "labeled_traces = [Recording(f, no_labels=True, mute=True) for f in labeled_traces_fnames]"
   ]
  },
  {
   "cell_type": "code",
   "execution_count": 7,
   "id": "548280eb",
   "metadata": {
    "execution": {
     "iopub.execute_input": "2023-03-26T00:32:49.796890Z",
     "iopub.status.busy": "2023-03-26T00:32:49.795739Z",
     "iopub.status.idle": "2023-03-26T00:32:49.816794Z",
     "shell.execute_reply": "2023-03-26T00:32:49.815719Z"
    },
    "papermill": {
     "duration": 0.032098,
     "end_time": "2023-03-26T00:32:49.819650",
     "exception": false,
     "start_time": "2023-03-26T00:32:49.787552",
     "status": "completed"
    },
    "tags": []
   },
   "outputs": [],
   "source": [
    "df = pd.read_csv(f'{input_dir}/data/labeled_traces/labels.csv')\n",
    "expected_counts = df['Expected'].to_list()"
   ]
  },
  {
   "cell_type": "markdown",
   "id": "1433934b",
   "metadata": {
    "papermill": {
     "duration": 0.006312,
     "end_time": "2023-03-26T00:32:49.832774",
     "exception": false,
     "start_time": "2023-03-26T00:32:49.826462",
     "status": "completed"
    },
    "tags": []
   },
   "source": [
    "### Self-recorded data"
   ]
  },
  {
   "cell_type": "code",
   "execution_count": 8,
   "id": "cb8374c3",
   "metadata": {
    "execution": {
     "iopub.execute_input": "2023-03-26T00:32:49.849061Z",
     "iopub.status.busy": "2023-03-26T00:32:49.847857Z",
     "iopub.status.idle": "2023-03-26T00:32:49.862649Z",
     "shell.execute_reply": "2023-03-26T00:32:49.861359Z"
    },
    "papermill": {
     "duration": 0.025854,
     "end_time": "2023-03-26T00:32:49.865553",
     "exception": false,
     "start_time": "2023-03-26T00:32:49.839699",
     "status": "completed"
    },
    "tags": []
   },
   "outputs": [
    {
     "data": {
      "text/plain": [
       "['/kaggle/input/pigwalk/matchy_lilygo_zchome_lotsofactivities_210.json',\n",
       " '/kaggle/input/pigwalk/zc_lilygo_zchome_130.json']"
      ]
     },
     "execution_count": 8,
     "metadata": {},
     "output_type": "execute_result"
    }
   ],
   "source": [
    "dir_pig_traces = '/kaggle/input/pigwalk'\n",
    "pig_traces_fnames = [join(dir_pig_traces, f)\n",
    "                     for f in listdir(dir_pig_traces) if isfile(join(dir_pig_traces, f))]\n",
    "pig_traces_fnames.sort()\n",
    "pig_traces_fnames"
   ]
  },
  {
   "cell_type": "code",
   "execution_count": 9,
   "id": "9afa9178",
   "metadata": {
    "execution": {
     "iopub.execute_input": "2023-03-26T00:32:49.881862Z",
     "iopub.status.busy": "2023-03-26T00:32:49.880630Z",
     "iopub.status.idle": "2023-03-26T00:32:51.592717Z",
     "shell.execute_reply": "2023-03-26T00:32:51.591469Z"
    },
    "papermill": {
     "duration": 1.723764,
     "end_time": "2023-03-26T00:32:51.596202",
     "exception": false,
     "start_time": "2023-03-26T00:32:49.872438",
     "status": "completed"
    },
    "tags": []
   },
   "outputs": [],
   "source": [
    "pig_traces = [Recording(f, no_labels=True, mute=True) for f in pig_traces_fnames]\n",
    "pig_label = [int(f.split('_')[-1].split('.')[0]) for f in pig_traces_fnames]"
   ]
  },
  {
   "cell_type": "markdown",
   "id": "f0605a69",
   "metadata": {
    "papermill": {
     "duration": 0.006413,
     "end_time": "2023-03-26T00:32:51.611326",
     "exception": false,
     "start_time": "2023-03-26T00:32:51.604913",
     "status": "completed"
    },
    "tags": []
   },
   "source": [
    "---\n",
    "\n",
    "## Coding\n",
    "\n",
    "The code block below defines the stepcounter"
   ]
  },
  {
   "cell_type": "code",
   "execution_count": 10,
   "id": "daeec607",
   "metadata": {
    "execution": {
     "iopub.execute_input": "2023-03-26T00:32:51.626505Z",
     "iopub.status.busy": "2023-03-26T00:32:51.626101Z",
     "iopub.status.idle": "2023-03-26T00:32:51.639049Z",
     "shell.execute_reply": "2023-03-26T00:32:51.638033Z"
    },
    "papermill": {
     "duration": 0.023427,
     "end_time": "2023-03-26T00:32:51.641422",
     "exception": false,
     "start_time": "2023-03-26T00:32:51.617995",
     "status": "completed"
    },
    "tags": []
   },
   "outputs": [],
   "source": [
    "### signal processing functions ###\n",
    "def parse(signal, ds_freq:float=20.0, zero_mean:bool=False):\n",
    "    \"\"\"downsampling the signal to specific frequency ds_freq, and make the data\n",
    "     with zero mean if zero_mean is True\"\"\"\n",
    "    ori_time_seq = np.array(signal.timestamps)\n",
    "    ori_value_seq = np.array(signal.values)\n",
    "    if zero_mean: ori_value_seq = ori_value_seq - np.mean(ori_value_seq)\n",
    "    dt = 1./ds_freq\n",
    "    time_seq = np.arange(start=np.min(ori_time_seq), stop=np.max(ori_time_seq), step=dt)\n",
    "    value_seq = np.interp(time_seq, ori_time_seq, ori_value_seq)\n",
    "    return time_seq, value_seq\n",
    "    \n",
    "def bp_filter(value_seq, fp:float=3, fs:float=20.0):\n",
    "    \"\"\"apply band pass filter to the sequence. fp is the threshold frequency,\n",
    "     and fs is the sampling frequency.\"\"\"\n",
    "    sos = signal.butter(N=4, Wn=[0.5,fp], btype='bandpass', fs=fs, output='sos')\n",
    "    filtered = signal.sosfilt(sos, value_seq)\n",
    "    return filtered\n",
    "    \n",
    "def get_envelop(value_seq, \n",
    "                fs:float=20, \n",
    "                half_window_size:float=0.5, \n",
    "                _min:float=20., \n",
    "                _max:float=500.):\n",
    "    \"\"\"\n",
    "    get the envelop as the adaptive local norm of the signal, currently the mode\n",
    "     of vector (no negative values). The envelop is calculated by the maximum in\n",
    "     a window, half_window_size is the seconds of time. _min and _max for clip.\n",
    "    \"\"\"\n",
    "    half_win = int(fs*half_window_size)\n",
    "    seq = np.concatenate([np.zeros((half_win,)),value_seq,np.zeros((half_win,))])\n",
    "    envelop = np.array([np.max(seq[k-half_win:k+half_win+1]) \n",
    "                        for k in range(half_win,half_win+len(value_seq))])\n",
    "    return np.clip(envelop, _min, _max)"
   ]
  },
  {
   "cell_type": "code",
   "execution_count": 11,
   "id": "9ce4e18a",
   "metadata": {
    "execution": {
     "iopub.execute_input": "2023-03-26T00:32:51.657600Z",
     "iopub.status.busy": "2023-03-26T00:32:51.656918Z",
     "iopub.status.idle": "2023-03-26T00:32:51.680412Z",
     "shell.execute_reply": "2023-03-26T00:32:51.678793Z"
    },
    "papermill": {
     "duration": 0.035052,
     "end_time": "2023-03-26T00:32:51.683285",
     "exception": false,
     "start_time": "2023-03-26T00:32:51.648233",
     "status": "completed"
    },
    "tags": []
   },
   "outputs": [],
   "source": [
    "class StepCounter(BaseEstimator):\n",
    "    def __init__(self, acc_min=2.,  acc_max=3.,    acc_height=0.25,\n",
    "                 gyro_min=20., gyro_max=500., gyro_height=0.5,\n",
    "                 acc_weight=1.0, half_window_size=0.5, width=0.5):\n",
    "        self.acc_min = acc_min\n",
    "        self.acc_max = acc_max\n",
    "        self.acc_height = acc_height\n",
    "        self.gyro_min = gyro_min\n",
    "        self.gyro_max = gyro_max\n",
    "        self.gyro_height = gyro_height\n",
    "        self.acc_weight = acc_weight\n",
    "        self.half_window_size = half_window_size\n",
    "        self.width = width\n",
    "\n",
    "    def fit(self, data, labels):\n",
    "        # no learning actually, just to fit the estimator interface\n",
    "        return self\n",
    "\n",
    "    def score(self, X, y_true, sample_weight=None, normalize=True) -> float:\n",
    "        '''\n",
    "        Get the \"score\" of the step counting result. \n",
    "        The score is calculated based on how different the step count is from the true values\n",
    "        '''\n",
    "        y_predicted = self.predict(X)\n",
    "        diff = y_predicted - y_true\n",
    "        scores = np.zeros(len(diff))\n",
    "        for i in range(len(diff)):\n",
    "            s = - abs(diff[i])\n",
    "            scores[i] = s\n",
    "        if normalize:\n",
    "            return np.average(scores, weights=sample_weight)\n",
    "        elif sample_weight is not None:\n",
    "            return np.dot(scores, sample_weight)\n",
    "        else:\n",
    "            return scores.sum()\n",
    "\n",
    "    def predict(self, traces):\n",
    "        # assume array\n",
    "        if hasattr(traces, '__len__'):\n",
    "            res = np.zeros(len(traces))\n",
    "            _traces = traces\n",
    "        else:\n",
    "            res = np.zeros(1)\n",
    "            _traces = [traces]\n",
    "        i = 0\n",
    "        for trace in _traces:\n",
    "            data = trace.data\n",
    "            # accelerator data\n",
    "            ax, ay, az = data['ax'], data['ay'], data['az']\n",
    "            # gyroscope data\n",
    "            gx, gy, gz = data['gx'], data['gy'], data['gz']\n",
    "            acc_step_counts = self._count_steps(ax, ay, az,\n",
    "                                                _max=self.acc_max,\n",
    "                                                _min=self.acc_min,\n",
    "                                                _height=self.acc_height,\n",
    "                                                half_window_size=self.half_window_size,\n",
    "                                                width=self.width)\n",
    "            gyro_step_counts = 0\n",
    "            if self.acc_weight != 1.0:\n",
    "                gyro_step_counts = self._count_steps(gx, gy, gz,\n",
    "                                                    _max=self.gyro_max,\n",
    "                                                    _min=self.gyro_min,\n",
    "                                                    _height=self.gyro_height,\n",
    "                                                    half_window_size=self.half_window_size,\n",
    "                                                    width=self.width)\n",
    "            res[i] = int(self.acc_weight * acc_step_counts +\n",
    "                         (1.0 - self.acc_weight) * gyro_step_counts)\n",
    "            i += 1\n",
    "        if len(res) == 1:\n",
    "            return res[0]\n",
    "        else:\n",
    "            return res\n",
    "\n",
    "    def _count_steps(self, ax, ay, az, _max, _min, _height,\n",
    "                     half_window_size=0.5, width=0.5):\n",
    "        # interval of m and temp: 80ms; others 50ms\n",
    "        # acc are in unit \"g\". gyro should be within -255, 255\n",
    "        g_t, gx_v = parse(ax)  # use acceleration seems better.\n",
    "        _, gy_v = parse(ay)\n",
    "        _, gz_v = parse(az)\n",
    "\n",
    "        # calculate the mode.\n",
    "        g_v = np.sqrt(np.sum(np.square([gx_v, gy_v, gz_v]), axis=0))\n",
    "        g_v /= get_envelop(g_v,\n",
    "                           half_window_size=half_window_size,\n",
    "                           _min=_min,\n",
    "                           _max=_max)  # an adaptive local norm\n",
    "        # band pass\n",
    "        filtered_gv = bp_filter(g_v)\n",
    "        # amp 1/4 after filtering, should be amplified 4x.\n",
    "        filtered_gv = filtered_gv * (filtered_gv > 0) * 4\n",
    "\n",
    "        # 0.5 optimal for gyro. not tuned for acc but I am lazy.\n",
    "        peaks, _ = signal.find_peaks(filtered_gv,\n",
    "                                     height=_height,\n",
    "                                     distance=20 * 0.2)\n",
    "        # when _min=20 for acc, height=0.01 looks good. sota: _min=1, height=0.25\n",
    "        step_count = len(peaks)  # peaks are the steps.\n",
    "        return step_count\n"
   ]
  },
  {
   "cell_type": "markdown",
   "id": "79052d54",
   "metadata": {
    "papermill": {
     "duration": 0.006556,
     "end_time": "2023-03-26T00:32:51.696977",
     "exception": false,
     "start_time": "2023-03-26T00:32:51.690421",
     "status": "completed"
    },
    "tags": []
   },
   "source": [
    "---\n",
    "\n",
    "## Data Exploration\n",
    "\n",
    "The code block below plot data shape"
   ]
  },
  {
   "cell_type": "code",
   "execution_count": 12,
   "id": "59da8afc",
   "metadata": {
    "execution": {
     "iopub.execute_input": "2023-03-26T00:32:51.712449Z",
     "iopub.status.busy": "2023-03-26T00:32:51.712035Z",
     "iopub.status.idle": "2023-03-26T00:32:52.629628Z",
     "shell.execute_reply": "2023-03-26T00:32:52.628607Z"
    },
    "papermill": {
     "duration": 0.928314,
     "end_time": "2023-03-26T00:32:52.632044",
     "exception": false,
     "start_time": "2023-03-26T00:32:51.703730",
     "status": "completed"
    },
    "tags": []
   },
   "outputs": [
    {
     "name": "stdout",
     "output_type": "stream",
     "text": [
      "228\n",
      "108\n"
     ]
    },
    {
     "data": {
      "text/plain": [
       "<Figure size 1500x2000 with 0 Axes>"
      ]
     },
     "metadata": {},
     "output_type": "display_data"
    },
    {
     "data": {
      "image/png": "[encoded data removed]",
      "text/plain": [
       "<Figure size 640x480 with 4 Axes>"
      ]
     },
     "metadata": {},
     "output_type": "display_data"
    }
   ],
   "source": [
    "plt.figure(figsize=(15.0,20.0))\n",
    "plt.subplots(20,1, sharex=True)\n",
    "\n",
    "# pick traces to lookat\n",
    "picked_traces = pig_traces\n",
    "file_id = 0\n",
    "for trace in picked_traces:\n",
    "    stepCount = 0  # This is your variable of the step counting that you need to change\n",
    "    data = trace.data\n",
    "    ax, ay, az, = data['ax'], data['ay'],data['az']\n",
    "    plot_window = [30, 40]\n",
    "    \n",
    "    g_t, gx_v = parse(ax)\n",
    "    _, gy_v = parse(ay)\n",
    "    _, gz_v = parse(az)\n",
    "    g_v = np.sqrt(np.sum(np.square([gx_v,gy_v,gz_v]),axis=0))  # calculate the mode.\n",
    "    \n",
    "    plt.subplot(2 * len(picked_traces),1,file_id*2+1)\n",
    "    plt.plot(g_t,g_v)\n",
    "    plt.plot(g_t,get_envelop(g_v, _min=2.0, _max=3.0))\n",
    "    plt.xlim(plot_window)\n",
    "#     print(np.min(g_v),np.max(g_v))\n",
    "\n",
    "    g_v /= get_envelop(g_v, _min=2.0, _max=3.0)  # an adaptive local norm\n",
    "    filtered_gv = bp_filter(g_v)  # band pass it.\n",
    "    filtered_gv = filtered_gv * (filtered_gv>0) * 4  # amp 1/4 after filtering, should be amplified 4x.\n",
    "    plt.subplot(2 * len(picked_traces),1,file_id*2+2)\n",
    "    plt.plot(g_t,filtered_gv)\n",
    "    plt.hlines(0.3, 0,np.max(g_t),color='r')\n",
    "    plt.xlim(plot_window)\n",
    "    file_id += 1\n",
    "\n",
    "    peaks, _ = signal.find_peaks(filtered_gv, height=0.25, distance=20*0.2)\n",
    "    plt.plot(peaks*0.05, filtered_gv[peaks], \"x\")\n",
    "    \n",
    "    stepCount = len(peaks)  # peaks are the steps.\n",
    "    print(stepCount)\n"
   ]
  },
  {
   "cell_type": "markdown",
   "id": "03e6d6f3",
   "metadata": {
    "papermill": {
     "duration": 0.007764,
     "end_time": "2023-03-26T00:32:52.648285",
     "exception": false,
     "start_time": "2023-03-26T00:32:52.640521",
     "status": "completed"
    },
    "tags": []
   },
   "source": [
    "---\n",
    "## Parameter tuning"
   ]
  },
  {
   "cell_type": "code",
   "execution_count": 13,
   "id": "47d7df28",
   "metadata": {
    "execution": {
     "iopub.execute_input": "2023-03-26T00:32:52.666209Z",
     "iopub.status.busy": "2023-03-26T00:32:52.665813Z",
     "iopub.status.idle": "2023-03-26T00:32:56.596996Z",
     "shell.execute_reply": "2023-03-26T00:32:56.595183Z"
    },
    "papermill": {
     "duration": 3.944299,
     "end_time": "2023-03-26T00:32:56.600561",
     "exception": false,
     "start_time": "2023-03-26T00:32:52.656262",
     "status": "completed"
    },
    "tags": []
   },
   "outputs": [
    {
     "name": "stdout",
     "output_type": "stream",
     "text": [
      "-3.3\n",
      "{'half_window_size': 0.8500000000000002}\n"
     ]
    }
   ],
   "source": [
    "# This code block is for parameter tuning and will take decades to finish\n",
    "# do not run unless you want to tune param\n",
    "step_counter = StepCounter()\n",
    "parameters = {\n",
    "    \"half_window_size\": np.arange(0.1, 1.1, step=0.05),\n",
    "}\n",
    "param_tuner = GridSearchCV(step_counter, parameters, cv=len(labeled_traces))\n",
    "param_tuner.fit(labeled_traces, expected_counts)\n",
    "\n",
    "print(param_tuner.best_score_)\n",
    "print(param_tuner.best_params_)"
   ]
  },
  {
   "cell_type": "markdown",
   "id": "33c5ff57",
   "metadata": {
    "papermill": {
     "duration": 0.008201,
     "end_time": "2023-03-26T00:32:56.617269",
     "exception": false,
     "start_time": "2023-03-26T00:32:56.609068",
     "status": "completed"
    },
    "tags": []
   },
   "source": [
    "---\n",
    "## Prediction"
   ]
  },
  {
   "cell_type": "code",
   "execution_count": 14,
   "id": "8ada1793",
   "metadata": {
    "execution": {
     "iopub.execute_input": "2023-03-26T00:32:56.636854Z",
     "iopub.status.busy": "2023-03-26T00:32:56.635969Z",
     "iopub.status.idle": "2023-03-26T00:32:56.696571Z",
     "shell.execute_reply": "2023-03-26T00:32:56.695361Z"
    },
    "papermill": {
     "duration": 0.073913,
     "end_time": "2023-03-26T00:32:56.699036",
     "exception": false,
     "start_time": "2023-03-26T00:32:56.625123",
     "status": "completed"
    },
    "tags": []
   },
   "outputs": [
    {
     "data": {
      "text/plain": [
       "array([227., 109.])"
      ]
     },
     "execution_count": 14,
     "metadata": {},
     "output_type": "execute_result"
    }
   ],
   "source": [
    "pig_counters = StepCounter(half_window_size=0.8)\n",
    "predict_pigs = pig_counters.predict(pig_traces)\n",
    "predict_pigs"
   ]
  },
  {
   "cell_type": "code",
   "execution_count": 15,
   "id": "674715d5",
   "metadata": {
    "execution": {
     "iopub.execute_input": "2023-03-26T00:32:56.717942Z",
     "iopub.status.busy": "2023-03-26T00:32:56.717498Z",
     "iopub.status.idle": "2023-03-26T00:32:56.725347Z",
     "shell.execute_reply": "2023-03-26T00:32:56.724139Z"
    },
    "papermill": {
     "duration": 0.021011,
     "end_time": "2023-03-26T00:32:56.728747",
     "exception": false,
     "start_time": "2023-03-26T00:32:56.707736",
     "status": "completed"
    },
    "tags": []
   },
   "outputs": [
    {
     "data": {
      "text/plain": [
       "[210, 130]"
      ]
     },
     "execution_count": 15,
     "metadata": {},
     "output_type": "execute_result"
    }
   ],
   "source": [
    "pig_label"
   ]
  },
  {
   "cell_type": "markdown",
   "id": "9d2e050c",
   "metadata": {
    "papermill": {
     "duration": 0.007843,
     "end_time": "2023-03-26T00:32:56.744811",
     "exception": false,
     "start_time": "2023-03-26T00:32:56.736968",
     "status": "completed"
    },
    "tags": []
   },
   "source": [
    "\n",
    "---\n",
    "\n",
    "## Results\n",
    "\n",
    "Below is the template"
   ]
  },
  {
   "cell_type": "code",
   "execution_count": 16,
   "id": "966bca6b",
   "metadata": {
    "execution": {
     "iopub.execute_input": "2023-03-26T00:32:56.763153Z",
     "iopub.status.busy": "2023-03-26T00:32:56.762737Z",
     "iopub.status.idle": "2023-03-26T00:32:56.778787Z",
     "shell.execute_reply": "2023-03-26T00:32:56.777681Z"
    },
    "papermill": {
     "duration": 0.028165,
     "end_time": "2023-03-26T00:32:56.781221",
     "exception": false,
     "start_time": "2023-03-26T00:32:56.753056",
     "status": "completed"
    },
    "tags": []
   },
   "outputs": [],
   "source": [
    "# Get the path of all traces\n",
    "dir_traces = '/kaggle/input/mobile-health-2023-step-count/data/traces'\n",
    "filenames = [join(dir_traces, f) for f in listdir(dir_traces) if isfile(join(dir_traces, f))]\n",
    "filenames.sort()"
   ]
  },
  {
   "cell_type": "code",
   "execution_count": 17,
   "id": "523d5bf7",
   "metadata": {
    "collapsed": false,
    "execution": {
     "iopub.execute_input": "2023-03-26T00:32:56.799476Z",
     "iopub.status.busy": "2023-03-26T00:32:56.799074Z",
     "iopub.status.idle": "2023-03-26T00:32:57.737977Z",
     "shell.execute_reply": "2023-03-26T00:32:57.736642Z"
    },
    "jupyter": {
     "outputs_hidden": false
    },
    "papermill": {
     "duration": 0.951727,
     "end_time": "2023-03-26T00:32:57.741084",
     "exception": false,
     "start_time": "2023-03-26T00:32:56.789357",
     "status": "completed"
    },
    "pycharm": {
     "name": "#%%\n"
    },
    "tags": []
   },
   "outputs": [
    {
     "name": "stdout",
     "output_type": "stream",
     "text": [
      "[101.0, 195.0, 94.0, 92.0, 107.0, 109.0, 118.0, 36.0, 148.0, 53.0]\n"
     ]
    }
   ],
   "source": [
    "# Loop through all traces and calculate the step count for each trace\n",
    "stepCounts = []\n",
    "ids = []\n",
    "best_step_counter = StepCounter(half_window_size=0.8)\n",
    "for filename in filenames:\n",
    "    trace = Recording(filename, no_labels=True, mute=True)\n",
    "    stepCount = 0  # This is your variable of the step counting that you need to change\n",
    "\n",
    "    #\n",
    "    # Your algorithm goes here\n",
    "    # Make sure, you only use data from the LilyGo Wristband, namely the following 10 keys (as in trace.data[key]):\n",
    "    # 3-axis accelerometer: key in [ax, ay, az]\n",
    "    # 3-axis gyro: key in [gx, gy, gz]\n",
    "    # 3-axis magnetometer: key in [mx, my, mz]\n",
    "    # IMU temperature: key==temperature\n",
    "    #\n",
    "    stepCount = best_step_counter.predict(trace)\n",
    "\n",
    "    # Append your calculated step counts and the id of the trace to the corresponding array\n",
    "    stepCounts.append(stepCount)\n",
    "    ids.append(filename.split('_')[1][:2])\n",
    "print(stepCounts)"
   ]
  },
  {
   "cell_type": "code",
   "execution_count": 18,
   "id": "736c6d7a",
   "metadata": {
    "collapsed": false,
    "execution": {
     "iopub.execute_input": "2023-03-26T00:32:57.760639Z",
     "iopub.status.busy": "2023-03-26T00:32:57.760218Z",
     "iopub.status.idle": "2023-03-26T00:32:57.772486Z",
     "shell.execute_reply": "2023-03-26T00:32:57.771005Z"
    },
    "jupyter": {
     "outputs_hidden": false
    },
    "papermill": {
     "duration": 0.025574,
     "end_time": "2023-03-26T00:32:57.775252",
     "exception": false,
     "start_time": "2023-03-26T00:32:57.749678",
     "status": "completed"
    },
    "pycharm": {
     "name": "#%%\n"
    },
    "tags": []
   },
   "outputs": [],
   "source": [
    "# Write the detected step counts into a .csv file to then upload the .csv file to Kaggle\n",
    "# When cross-checking the .csv file on your computer, we recommend using the text editor and NOT excel so that the results are displayed correctly\n",
    "# IMPORTANT: Do NOT change the name of the columns ('Id' and 'Predicted') of the .csv file\n",
    "df = pd.DataFrame({'Id':ids,'Predicted':stepCounts})\n",
    "df.to_csv('/kaggle/working/submission.csv', index=False)"
   ]
  }
 ],
 "metadata": {
  "kernelspec": {
   "display_name": "Python 3",
   "language": "python",
   "name": "python3"
  },
  "language_info": {
   "codemirror_mode": {
    "name": "ipython",
    "version": 3
   },
   "file_extension": ".py",
   "mimetype": "text/x-python",
   "name": "python",
   "nbconvert_exporter": "python",
   "pygments_lexer": "ipython3",
   "version": "3.7.12"
  },
  "papermill": {
   "default_parameters": {},
   "duration": 23.014504,
   "end_time": "2023-03-26T00:32:59.009333",
   "environment_variables": {},
   "exception": null,
   "input_path": "__notebook__.ipynb",
   "output_path": "__notebook__.ipynb",
   "parameters": {},
   "start_time": "2023-03-26T00:32:35.994829",
   "version": "2.4.0"
  }
 },
 "nbformat": 4,
 "nbformat_minor": 5
}
