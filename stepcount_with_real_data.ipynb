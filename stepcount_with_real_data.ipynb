{
 "cells": [
  {
   "cell_type": "code",
   "execution_count": 1,
   "id": "c2933e66",
   "metadata": {
    "execution": {
     "iopub.execute_input": "2023-03-26T18:23:17.695266Z",
     "iopub.status.busy": "2023-03-26T18:23:17.694803Z",
     "iopub.status.idle": "2023-03-26T18:23:17.703062Z",
     "shell.execute_reply": "2023-03-26T18:23:17.701209Z"
    },
    "papermill": {
     "duration": 0.024793,
     "end_time": "2023-03-26T18:23:17.708061",
     "exception": false,
     "start_time": "2023-03-26T18:23:17.683268",
     "status": "completed"
    },
    "pycharm": {
     "name": "#%%\n"
    },
    "tags": []
   },
   "outputs": [],
   "source": [
    "# This is the template for the submission. If you want, you can develop your algorithm in a regular Python script and copy the code here for submission.\n",
    "\n",
    "# Team members (e-mail, legi):\n",
    "# chozhang@ethz.ch, 22-945-562\n",
    "# minghli@student.ethz.ch, 22-953-293\n",
    "# changli@student.ethz.ch, 22-944-474"
   ]
  },
  {
   "cell_type": "code",
   "execution_count": 2,
   "id": "2d062d4c",
   "metadata": {
    "execution": {
     "iopub.execute_input": "2023-03-26T18:23:17.725261Z",
     "iopub.status.busy": "2023-03-26T18:23:17.724782Z",
     "iopub.status.idle": "2023-03-26T18:23:17.736722Z",
     "shell.execute_reply": "2023-03-26T18:23:17.735251Z"
    },
    "papermill": {
     "duration": 0.024274,
     "end_time": "2023-03-26T18:23:17.739469",
     "exception": false,
     "start_time": "2023-03-26T18:23:17.715195",
     "status": "completed"
    },
    "tags": []
   },
   "outputs": [],
   "source": [
    "# If you are in Kaggle, first go to notebook settings and add data from the stepcount competition\n",
    "# The competition name is: Mobile Health 2023 - Step Count Submission\n",
    "# After importing the dataset, run this code block to add Lilygo to the path\n",
    "import os\n",
    "import sys\n",
    "curr_environ = os.environ.get('KAGGLE_KERNEL_RUN_TYPE', 'Localhost')\n",
    "if curr_environ != 'Localhost': \n",
    "    sys.path.append('/kaggle/input/mobile-health-2023-step-count')\n",
    "    input_dir = '/kaggle/input/mobile-health-2023-step-count'\n",
    "else:\n",
    "    input_dir = os.path.abspath('')"
   ]
  },
  {
   "cell_type": "code",
   "execution_count": 3,
   "id": "2cdd027c",
   "metadata": {
    "collapsed": false,
    "execution": {
     "iopub.execute_input": "2023-03-26T18:23:17.757114Z",
     "iopub.status.busy": "2023-03-26T18:23:17.756273Z",
     "iopub.status.idle": "2023-03-26T18:23:18.813741Z",
     "shell.execute_reply": "2023-03-26T18:23:18.811968Z"
    },
    "jupyter": {
     "outputs_hidden": false
    },
    "papermill": {
     "duration": 1.071304,
     "end_time": "2023-03-26T18:23:18.817860",
     "exception": false,
     "start_time": "2023-03-26T18:23:17.746556",
     "status": "completed"
    },
    "pycharm": {
     "name": "#%%\n"
    },
    "tags": []
   },
   "outputs": [],
   "source": [
    "import pandas as pd\n",
    "import numpy as np\n",
    "from scipy import signal\n",
    "\n",
    "from Lilygo.Recording import Recording\n",
    "from Lilygo.Dataset import Dataset\n",
    "from os import listdir\n",
    "from os.path import isfile, join\n",
    "\n",
    "import matplotlib.pyplot as plt\n",
    "# %matplotlib inline"
   ]
  },
  {
   "cell_type": "markdown",
   "id": "edc7898d",
   "metadata": {
    "papermill": {
     "duration": 0.008422,
     "end_time": "2023-03-26T18:23:18.833598",
     "exception": false,
     "start_time": "2023-03-26T18:23:18.825176",
     "status": "completed"
    },
    "tags": []
   },
   "source": [
    "---\n",
    "\n",
    "## Read data"
   ]
  },
  {
   "cell_type": "code",
   "execution_count": 4,
   "id": "9c76b8d9",
   "metadata": {
    "execution": {
     "iopub.execute_input": "2023-03-26T18:23:18.852912Z",
     "iopub.status.busy": "2023-03-26T18:23:18.852011Z",
     "iopub.status.idle": "2023-03-26T18:23:19.086668Z",
     "shell.execute_reply": "2023-03-26T18:23:19.085325Z"
    },
    "papermill": {
     "duration": 0.248084,
     "end_time": "2023-03-26T18:23:19.090344",
     "exception": false,
     "start_time": "2023-03-26T18:23:18.842260",
     "status": "completed"
    },
    "tags": []
   },
   "outputs": [],
   "source": [
    "# for tuning parameters\n",
    "from sklearn.model_selection import GridSearchCV\n",
    "from sklearn.base import BaseEstimator"
   ]
  },
  {
   "cell_type": "code",
   "execution_count": 5,
   "id": "b970d67f",
   "metadata": {
    "collapsed": false,
    "execution": {
     "iopub.execute_input": "2023-03-26T18:23:19.107149Z",
     "iopub.status.busy": "2023-03-26T18:23:19.105898Z",
     "iopub.status.idle": "2023-03-26T18:23:19.122764Z",
     "shell.execute_reply": "2023-03-26T18:23:19.121298Z"
    },
    "jupyter": {
     "outputs_hidden": false
    },
    "papermill": {
     "duration": 0.029326,
     "end_time": "2023-03-26T18:23:19.126467",
     "exception": false,
     "start_time": "2023-03-26T18:23:19.097141",
     "status": "completed"
    },
    "pycharm": {
     "name": "#%%\n"
    },
    "tags": []
   },
   "outputs": [],
   "source": [
    "# Get the path of all traces\n",
    "dir_traces = f'{input_dir}/data/traces'\n",
    "dir_labeled_traces = f'{input_dir}/data/labeled_traces'\n",
    "traces_fnames = [join(dir_traces, f)\n",
    "                 for f in listdir(dir_traces) if isfile(join(dir_traces, f))]\n",
    "labeled_traces_fnames = [join(dir_labeled_traces, f)\n",
    "                         for f in listdir(dir_labeled_traces) if isfile(join(dir_labeled_traces, f)) and not 'csv' in f]\n",
    "traces_fnames.sort()\n",
    "labeled_traces_fnames.sort()\n"
   ]
  },
  {
   "cell_type": "code",
   "execution_count": 6,
   "id": "1f1b69b3",
   "metadata": {
    "execution": {
     "iopub.execute_input": "2023-03-26T18:23:19.144619Z",
     "iopub.status.busy": "2023-03-26T18:23:19.143700Z",
     "iopub.status.idle": "2023-03-26T18:23:21.336335Z",
     "shell.execute_reply": "2023-03-26T18:23:21.334979Z"
    },
    "papermill": {
     "duration": 2.204791,
     "end_time": "2023-03-26T18:23:21.339450",
     "exception": false,
     "start_time": "2023-03-26T18:23:19.134659",
     "status": "completed"
    },
    "tags": []
   },
   "outputs": [],
   "source": [
    "traces = [Recording(f, no_labels=True, mute=True) for f in traces_fnames]\n",
    "# not sure if I should change no_labels to False\n",
    "labeled_traces = [Recording(f, no_labels=True, mute=True) for f in labeled_traces_fnames]"
   ]
  },
  {
   "cell_type": "code",
   "execution_count": 7,
   "id": "7799e828",
   "metadata": {
    "execution": {
     "iopub.execute_input": "2023-03-26T18:23:21.355599Z",
     "iopub.status.busy": "2023-03-26T18:23:21.355124Z",
     "iopub.status.idle": "2023-03-26T18:23:21.377255Z",
     "shell.execute_reply": "2023-03-26T18:23:21.375622Z"
    },
    "papermill": {
     "duration": 0.034617,
     "end_time": "2023-03-26T18:23:21.380918",
     "exception": false,
     "start_time": "2023-03-26T18:23:21.346301",
     "status": "completed"
    },
    "tags": []
   },
   "outputs": [],
   "source": [
    "df = pd.read_csv(f'{input_dir}/data/labeled_traces/labels.csv')\n",
    "expected_counts = df['Expected'].to_list()"
   ]
  },
  {
   "cell_type": "markdown",
   "id": "c7e4eb27",
   "metadata": {
    "papermill": {
     "duration": 0.006496,
     "end_time": "2023-03-26T18:23:21.394560",
     "exception": false,
     "start_time": "2023-03-26T18:23:21.388064",
     "status": "completed"
    },
    "tags": []
   },
   "source": [
    "### Self-recorded data"
   ]
  },
  {
   "cell_type": "code",
   "execution_count": 8,
   "id": "294961fc",
   "metadata": {
    "execution": {
     "iopub.execute_input": "2023-03-26T18:23:21.413947Z",
     "iopub.status.busy": "2023-03-26T18:23:21.412334Z",
     "iopub.status.idle": "2023-03-26T18:23:21.436904Z",
     "shell.execute_reply": "2023-03-26T18:23:21.435440Z"
    },
    "papermill": {
     "duration": 0.037916,
     "end_time": "2023-03-26T18:23:21.439977",
     "exception": false,
     "start_time": "2023-03-26T18:23:21.402061",
     "status": "completed"
    },
    "tags": []
   },
   "outputs": [
    {
     "data": {
      "text/plain": [
       "['/kaggle/input/pigwalk/matchy_lilygo_seebachbackhome_550.json',\n",
       " '/kaggle/input/pigwalk/matchy_lilygo_stairs_300.json',\n",
       " '/kaggle/input/pigwalk/matchy_lilygo_toseebach_81.json',\n",
       " '/kaggle/input/pigwalk/matchy_lilygo_zchome_lotsofactivities_210.json',\n",
       " '/kaggle/input/pigwalk/zc_lilygo_zchome_130.json']"
      ]
     },
     "execution_count": 8,
     "metadata": {},
     "output_type": "execute_result"
    }
   ],
   "source": [
    "dir_pig_traces = '/kaggle/input/pigwalk'\n",
    "pig_traces_fnames = [join(dir_pig_traces, f)\n",
    "                     for f in listdir(dir_pig_traces) if isfile(join(dir_pig_traces, f))]\n",
    "pig_traces_fnames.sort()\n",
    "pig_traces_fnames"
   ]
  },
  {
   "cell_type": "code",
   "execution_count": 9,
   "id": "51463a32",
   "metadata": {
    "execution": {
     "iopub.execute_input": "2023-03-26T18:23:21.457856Z",
     "iopub.status.busy": "2023-03-26T18:23:21.456436Z",
     "iopub.status.idle": "2023-03-26T18:23:25.723948Z",
     "shell.execute_reply": "2023-03-26T18:23:25.721943Z"
    },
    "papermill": {
     "duration": 4.279976,
     "end_time": "2023-03-26T18:23:25.727526",
     "exception": false,
     "start_time": "2023-03-26T18:23:21.447550",
     "status": "completed"
    },
    "tags": []
   },
   "outputs": [],
   "source": [
    "pig_traces = [Recording(f, no_labels=True, mute=True) for f in pig_traces_fnames]\n",
    "pig_label = [int(f.split('_')[-1].split('.')[0]) for f in pig_traces_fnames]"
   ]
  },
  {
   "cell_type": "markdown",
   "id": "af4392ae",
   "metadata": {
    "papermill": {
     "duration": 0.007336,
     "end_time": "2023-03-26T18:23:25.745169",
     "exception": false,
     "start_time": "2023-03-26T18:23:25.737833",
     "status": "completed"
    },
    "tags": []
   },
   "source": [
    "---\n",
    "\n",
    "## Coding\n",
    "\n",
    "The code block below defines the stepcounter"
   ]
  },
  {
   "cell_type": "code",
   "execution_count": 10,
   "id": "e8b4e76c",
   "metadata": {
    "execution": {
     "iopub.execute_input": "2023-03-26T18:23:25.763671Z",
     "iopub.status.busy": "2023-03-26T18:23:25.763146Z",
     "iopub.status.idle": "2023-03-26T18:23:25.779950Z",
     "shell.execute_reply": "2023-03-26T18:23:25.778304Z"
    },
    "papermill": {
     "duration": 0.03058,
     "end_time": "2023-03-26T18:23:25.783633",
     "exception": false,
     "start_time": "2023-03-26T18:23:25.753053",
     "status": "completed"
    },
    "tags": []
   },
   "outputs": [],
   "source": [
    "### signal processing functions ###\n",
    "def parse(signal, ds_freq:float=20.0, zero_mean:bool=False):\n",
    "    \"\"\"downsampling the signal to specific frequency ds_freq, and make the data\n",
    "     with zero mean if zero_mean is True\"\"\"\n",
    "    ori_time_seq = np.array(signal.timestamps)\n",
    "    ori_value_seq = np.array(signal.values)\n",
    "    if zero_mean: ori_value_seq = ori_value_seq - np.mean(ori_value_seq)\n",
    "    dt = 1./ds_freq\n",
    "    time_seq = np.arange(start=np.min(ori_time_seq), stop=np.max(ori_time_seq), step=dt)\n",
    "    value_seq = np.interp(time_seq, ori_time_seq, ori_value_seq)\n",
    "    return time_seq, value_seq\n",
    "    \n",
    "def bp_filter(value_seq, fp:float=3, fs:float=20.0):\n",
    "    \"\"\"apply band pass filter to the sequence. fp is the threshold frequency,\n",
    "     and fs is the sampling frequency.\"\"\"\n",
    "    sos = signal.butter(N=4, Wn=[0.5,fp], btype='bandpass', fs=fs, output='sos')\n",
    "    filtered = signal.sosfilt(sos, value_seq)\n",
    "    return filtered\n",
    "    \n",
    "def get_envelop(value_seq, \n",
    "                fs:float=20, \n",
    "                half_window_size:float=0.5, \n",
    "                _min:float=20., \n",
    "                _max:float=500.):\n",
    "    \"\"\"\n",
    "    get the envelop as the adaptive local norm of the signal, currently the mode\n",
    "     of vector (no negative values). The envelop is calculated by the maximum in\n",
    "     a window, half_window_size is the seconds of time. _min and _max for clip.\n",
    "    \"\"\"\n",
    "    half_win = int(fs*half_window_size)\n",
    "    seq = np.concatenate([np.zeros((half_win,)),value_seq,np.zeros((half_win,))])\n",
    "    envelop = np.array([np.max(seq[k-half_win:k+half_win+1]) \n",
    "                        for k in range(half_win,half_win+len(value_seq))])\n",
    "    return np.clip(envelop, _min, _max)"
   ]
  },
  {
   "cell_type": "code",
   "execution_count": 11,
   "id": "0232be50",
   "metadata": {
    "execution": {
     "iopub.execute_input": "2023-03-26T18:23:25.801046Z",
     "iopub.status.busy": "2023-03-26T18:23:25.800538Z",
     "iopub.status.idle": "2023-03-26T18:23:25.827490Z",
     "shell.execute_reply": "2023-03-26T18:23:25.826349Z"
    },
    "papermill": {
     "duration": 0.039078,
     "end_time": "2023-03-26T18:23:25.830238",
     "exception": false,
     "start_time": "2023-03-26T18:23:25.791160",
     "status": "completed"
    },
    "tags": []
   },
   "outputs": [],
   "source": [
    "class StepCounter(BaseEstimator):\n",
    "    def __init__(self, acc_min=2.,  acc_max=3.,    acc_height=0.25,\n",
    "                 gyro_min=20., gyro_max=500., gyro_height=0.5,\n",
    "                 acc_weight=1.0, half_window_size=0.5, width=0.5):\n",
    "        self.acc_min = acc_min\n",
    "        self.acc_max = acc_max\n",
    "        self.acc_height = acc_height\n",
    "        self.gyro_min = gyro_min\n",
    "        self.gyro_max = gyro_max\n",
    "        self.gyro_height = gyro_height\n",
    "        self.acc_weight = acc_weight\n",
    "        self.half_window_size = half_window_size\n",
    "        self.width = width\n",
    "\n",
    "    def fit(self, data, labels):\n",
    "        # no learning actually, just to fit the estimator interface\n",
    "        return self\n",
    "\n",
    "    def score(self, X, y_true, sample_weight=None, normalize=True) -> float:\n",
    "        '''\n",
    "        Get the \"score\" of the step counting result. \n",
    "        The score is calculated based on how different the step count is from the true values\n",
    "        '''\n",
    "        y_predicted = self.predict(X)\n",
    "        diff = y_predicted - y_true\n",
    "        scores = np.zeros(len(diff))\n",
    "        for i in range(len(diff)):\n",
    "            s = - abs(diff[i])\n",
    "            scores[i] = s\n",
    "        if normalize:\n",
    "            return np.average(scores, weights=sample_weight)\n",
    "        elif sample_weight is not None:\n",
    "            return np.dot(scores, sample_weight)\n",
    "        else:\n",
    "            return scores.sum()\n",
    "\n",
    "    def predict(self, traces):\n",
    "        # assume array\n",
    "        if hasattr(traces, '__len__'):\n",
    "            res = np.zeros(len(traces), dtype=int)\n",
    "            _traces = traces\n",
    "        else:\n",
    "            res = np.zeros(1, dtype=int)\n",
    "            _traces = [traces]\n",
    "        i = 0\n",
    "        for trace in _traces:\n",
    "            data = trace.data\n",
    "            # accelerator data\n",
    "            ax, ay, az = data['ax'], data['ay'], data['az']\n",
    "            # gyroscope data\n",
    "            gx, gy, gz = data['gx'], data['gy'], data['gz']\n",
    "            acc_step_counts = self._count_steps(ax, ay, az,\n",
    "                                                _max=self.acc_max,\n",
    "                                                _min=self.acc_min,\n",
    "                                                _height=self.acc_height,\n",
    "                                                half_window_size=self.half_window_size,\n",
    "                                                width=self.width)\n",
    "            gyro_step_counts = 0\n",
    "            if self.acc_weight != 1.0:\n",
    "                gyro_step_counts = self._count_steps(gx, gy, gz,\n",
    "                                                    _max=self.gyro_max,\n",
    "                                                    _min=self.gyro_min,\n",
    "                                                    _height=self.gyro_height,\n",
    "                                                    half_window_size=self.half_window_size,\n",
    "                                                    width=self.width)\n",
    "            res[i] = int(self.acc_weight * acc_step_counts +\n",
    "                         (1.0 - self.acc_weight) * gyro_step_counts)\n",
    "            i += 1\n",
    "        if len(res) == 1:\n",
    "            return res[0]\n",
    "        else:\n",
    "            return res\n",
    "\n",
    "    def _count_steps(self, ax, ay, az, _max, _min, _height,\n",
    "                     half_window_size=0.5, width=0.5):\n",
    "        # interval of m and temp: 80ms; others 50ms\n",
    "        # acc are in unit \"g\". gyro should be within -255, 255\n",
    "        g_t, gx_v = parse(ax)  # use acceleration seems better.\n",
    "        _, gy_v = parse(ay)\n",
    "        _, gz_v = parse(az)\n",
    "\n",
    "        # calculate the mode.\n",
    "        g_v = np.sqrt(np.sum(np.square([gx_v, gy_v, gz_v]), axis=0))\n",
    "        g_v /= get_envelop(g_v,\n",
    "                           half_window_size=half_window_size,\n",
    "                           _min=_min,\n",
    "                           _max=_max)  # an adaptive local norm\n",
    "        # band pass\n",
    "        filtered_gv = bp_filter(g_v)\n",
    "        # amp 1/4 after filtering, should be amplified 4x.\n",
    "        filtered_gv = filtered_gv * (filtered_gv > 0) * 4\n",
    "\n",
    "        # 0.5 optimal for gyro. not tuned for acc but I am lazy.\n",
    "        peaks, _ = signal.find_peaks(filtered_gv,\n",
    "                                     height=_height,\n",
    "                                     distance=20 * 0.2)\n",
    "        # when _min=20 for acc, height=0.01 looks good. sota: _min=1, height=0.25\n",
    "        step_count = len(peaks)  # peaks are the steps.\n",
    "        return step_count\n"
   ]
  },
  {
   "cell_type": "markdown",
   "id": "e026341d",
   "metadata": {
    "papermill": {
     "duration": 0.008033,
     "end_time": "2023-03-26T18:23:25.846182",
     "exception": false,
     "start_time": "2023-03-26T18:23:25.838149",
     "status": "completed"
    },
    "tags": []
   },
   "source": [
    "---\n",
    "\n",
    "## Data Exploration\n",
    "\n",
    "The code block below plot data shape"
   ]
  },
  {
   "cell_type": "code",
   "execution_count": 12,
   "id": "8023df9b",
   "metadata": {
    "execution": {
     "iopub.execute_input": "2023-03-26T18:23:25.866255Z",
     "iopub.status.busy": "2023-03-26T18:23:25.864953Z",
     "iopub.status.idle": "2023-03-26T18:23:27.689894Z",
     "shell.execute_reply": "2023-03-26T18:23:27.687605Z"
    },
    "papermill": {
     "duration": 1.839174,
     "end_time": "2023-03-26T18:23:27.693826",
     "exception": false,
     "start_time": "2023-03-26T18:23:25.854652",
     "status": "completed"
    },
    "tags": []
   },
   "outputs": [
    {
     "data": {
      "text/plain": [
       "<Figure size 1500x2000 with 0 Axes>"
      ]
     },
     "metadata": {},
     "output_type": "display_data"
    },
    {
     "data": {
      "image/png": "[encoded data removed]",
      "text/plain": [
       "<Figure size 640x480 with 10 Axes>"
      ]
     },
     "metadata": {},
     "output_type": "display_data"
    }
   ],
   "source": [
    "# %%script false --no-raise-error\n",
    "# This code block is for data exploration\n",
    "# If you don't want to run it, uncomment the first line\n",
    "plt.figure(figsize=(15.0,20.0))\n",
    "plt.subplots(20,1, sharex=True)\n",
    "\n",
    "# pick traces to lookat\n",
    "picked_traces = pig_traces\n",
    "file_id = 0\n",
    "for trace in picked_traces:\n",
    "    stepCount = 0  # This is your variable of the step counting that you need to change\n",
    "    data = trace.data\n",
    "    ax, ay, az, = data['ax'], data['ay'],data['az']\n",
    "    plot_window = [30, 40]\n",
    "    \n",
    "    g_t, gx_v = parse(ax)\n",
    "    _, gy_v = parse(ay)\n",
    "    _, gz_v = parse(az)\n",
    "    g_v = np.sqrt(np.sum(np.square([gx_v,gy_v,gz_v]),axis=0))  # calculate the mode.\n",
    "    \n",
    "    plt.subplot(2 * len(picked_traces),1,file_id*2+1)\n",
    "    plt.plot(g_t,g_v)\n",
    "    plt.plot(g_t,get_envelop(g_v, _min=2.0, _max=3.0))\n",
    "    plt.xlim(plot_window)\n",
    "#     print(np.min(g_v),np.max(g_v))\n",
    "\n",
    "    g_v /= get_envelop(g_v, _min=2.0, _max=3.0)  # an adaptive local norm\n",
    "    filtered_gv = bp_filter(g_v)  # band pass it.\n",
    "    filtered_gv = filtered_gv * (filtered_gv>0) * 4  # amp 1/4 after filtering, should be amplified 4x.\n",
    "    plt.subplot(2 * len(picked_traces),1,file_id*2+2)\n",
    "    plt.plot(g_t,filtered_gv)\n",
    "    plt.hlines(0.3, 0,np.max(g_t),color='r')\n",
    "    plt.xlim(plot_window)\n",
    "    file_id += 1\n",
    "\n",
    "    peaks, _ = signal.find_peaks(filtered_gv, height=0.25, distance=20*0.2)\n",
    "    plt.plot(peaks*0.05, filtered_gv[peaks], \"x\")\n"
   ]
  },
  {
   "cell_type": "markdown",
   "id": "ffdb0ee7",
   "metadata": {
    "papermill": {
     "duration": 0.008243,
     "end_time": "2023-03-26T18:23:27.711119",
     "exception": false,
     "start_time": "2023-03-26T18:23:27.702876",
     "status": "completed"
    },
    "tags": []
   },
   "source": [
    "---\n",
    "## Parameter tuning"
   ]
  },
  {
   "cell_type": "code",
   "execution_count": 13,
   "id": "8df8cfad",
   "metadata": {
    "execution": {
     "iopub.execute_input": "2023-03-26T18:23:27.732339Z",
     "iopub.status.busy": "2023-03-26T18:23:27.731858Z",
     "iopub.status.idle": "2023-03-26T18:23:27.768260Z",
     "shell.execute_reply": "2023-03-26T18:23:27.766755Z"
    },
    "papermill": {
     "duration": 0.050753,
     "end_time": "2023-03-26T18:23:27.771861",
     "exception": false,
     "start_time": "2023-03-26T18:23:27.721108",
     "status": "completed"
    },
    "tags": []
   },
   "outputs": [],
   "source": [
    "%%script false --no-raise-error\n",
    "# This code block is for parameter tuning and will take decades to finish\n",
    "# If you want to tune the parameter, comment out the first line\n",
    "picked_traces = labeled_traces.copy()\n",
    "picked_traces.extend(pig_traces)\n",
    "\n",
    "picked_labels = expected_counts.copy()\n",
    "picked_labels.extend(pig_label)\n",
    "\n",
    "step_counter = StepCounter()\n",
    "parameters = {\n",
    "    \"half_window_size\": np.arange(0.1,  1.1,  step=0.05),\n",
    "}\n",
    "param_tuner = GridSearchCV(step_counter, parameters, cv=10)\n",
    "param_tuner.fit(picked_traces, picked_labels)\n",
    "\n",
    "print(param_tuner.best_score_)\n",
    "print(param_tuner.best_params_)"
   ]
  },
  {
   "cell_type": "markdown",
   "id": "b0351fc8",
   "metadata": {
    "papermill": {
     "duration": 0.008217,
     "end_time": "2023-03-26T18:23:27.788866",
     "exception": false,
     "start_time": "2023-03-26T18:23:27.780649",
     "status": "completed"
    },
    "tags": []
   },
   "source": [
    "---\n",
    "## Prediction"
   ]
  },
  {
   "cell_type": "code",
   "execution_count": 14,
   "id": "3f684bc3",
   "metadata": {
    "execution": {
     "iopub.execute_input": "2023-03-26T18:23:27.808641Z",
     "iopub.status.busy": "2023-03-26T18:23:27.808053Z",
     "iopub.status.idle": "2023-03-26T18:23:28.022243Z",
     "shell.execute_reply": "2023-03-26T18:23:28.021052Z"
    },
    "papermill": {
     "duration": 0.227898,
     "end_time": "2023-03-26T18:23:28.025172",
     "exception": false,
     "start_time": "2023-03-26T18:23:27.797274",
     "status": "completed"
    },
    "tags": []
   },
   "outputs": [
    {
     "data": {
      "text/plain": [
       "array([523, 290,  78, 227, 110])"
      ]
     },
     "execution_count": 14,
     "metadata": {},
     "output_type": "execute_result"
    }
   ],
   "source": [
    "pig_counters = StepCounter(half_window_size=0.75)\n",
    "predict_pigs = pig_counters.predict(pig_traces)\n",
    "predict_pigs"
   ]
  },
  {
   "cell_type": "code",
   "execution_count": 15,
   "id": "80cdd3cc",
   "metadata": {
    "execution": {
     "iopub.execute_input": "2023-03-26T18:23:28.046719Z",
     "iopub.status.busy": "2023-03-26T18:23:28.045921Z",
     "iopub.status.idle": "2023-03-26T18:23:28.053228Z",
     "shell.execute_reply": "2023-03-26T18:23:28.051882Z"
    },
    "papermill": {
     "duration": 0.020738,
     "end_time": "2023-03-26T18:23:28.056002",
     "exception": false,
     "start_time": "2023-03-26T18:23:28.035264",
     "status": "completed"
    },
    "tags": []
   },
   "outputs": [
    {
     "data": {
      "text/plain": [
       "[550, 300, 81, 210, 130]"
      ]
     },
     "execution_count": 15,
     "metadata": {},
     "output_type": "execute_result"
    }
   ],
   "source": [
    "pig_label"
   ]
  },
  {
   "cell_type": "markdown",
   "id": "19821005",
   "metadata": {
    "papermill": {
     "duration": 0.00949,
     "end_time": "2023-03-26T18:23:28.075606",
     "exception": false,
     "start_time": "2023-03-26T18:23:28.066116",
     "status": "completed"
    },
    "tags": []
   },
   "source": [
    "\n",
    "---\n",
    "\n",
    "## Results\n",
    "\n",
    "Below is the template"
   ]
  },
  {
   "cell_type": "code",
   "execution_count": 16,
   "id": "f591f585",
   "metadata": {
    "execution": {
     "iopub.execute_input": "2023-03-26T18:23:28.097608Z",
     "iopub.status.busy": "2023-03-26T18:23:28.096344Z",
     "iopub.status.idle": "2023-03-26T18:23:28.112828Z",
     "shell.execute_reply": "2023-03-26T18:23:28.111245Z"
    },
    "papermill": {
     "duration": 0.031234,
     "end_time": "2023-03-26T18:23:28.116189",
     "exception": false,
     "start_time": "2023-03-26T18:23:28.084955",
     "status": "completed"
    },
    "tags": []
   },
   "outputs": [],
   "source": [
    "# Get the path of all traces\n",
    "dir_traces = '/kaggle/input/mobile-health-2023-step-count/data/traces'\n",
    "filenames = [join(dir_traces, f) for f in listdir(dir_traces) if isfile(join(dir_traces, f))]\n",
    "filenames.sort()"
   ]
  },
  {
   "cell_type": "code",
   "execution_count": 17,
   "id": "73d7e2bb",
   "metadata": {
    "collapsed": false,
    "execution": {
     "iopub.execute_input": "2023-03-26T18:23:28.137651Z",
     "iopub.status.busy": "2023-03-26T18:23:28.137143Z",
     "iopub.status.idle": "2023-03-26T18:23:29.453525Z",
     "shell.execute_reply": "2023-03-26T18:23:29.451773Z"
    },
    "jupyter": {
     "outputs_hidden": false
    },
    "papermill": {
     "duration": 1.331431,
     "end_time": "2023-03-26T18:23:29.456527",
     "exception": false,
     "start_time": "2023-03-26T18:23:28.125096",
     "status": "completed"
    },
    "pycharm": {
     "name": "#%%\n"
    },
    "tags": []
   },
   "outputs": [
    {
     "name": "stdout",
     "output_type": "stream",
     "text": [
      "[101, 195, 94, 92, 107, 109, 118, 36, 148, 53]\n"
     ]
    }
   ],
   "source": [
    "# Loop through all traces and calculate the step count for each trace\n",
    "stepCounts = []\n",
    "ids = []\n",
    "best_step_counter = StepCounter(half_window_size=0.75)\n",
    "for filename in filenames:\n",
    "    trace = Recording(filename, no_labels=True, mute=True)\n",
    "    stepCount = 0  # This is your variable of the step counting that you need to change\n",
    "\n",
    "    #\n",
    "    # Your algorithm goes here\n",
    "    # Make sure, you only use data from the LilyGo Wristband, namely the following 10 keys (as in trace.data[key]):\n",
    "    # 3-axis accelerometer: key in [ax, ay, az]\n",
    "    # 3-axis gyro: key in [gx, gy, gz]\n",
    "    # 3-axis magnetometer: key in [mx, my, mz]\n",
    "    # IMU temperature: key==temperature\n",
    "    #\n",
    "    stepCount = best_step_counter.predict(trace)\n",
    "\n",
    "    # Append your calculated step counts and the id of the trace to the corresponding array\n",
    "    stepCounts.append(stepCount)\n",
    "    ids.append(filename.split('_')[1][:2])\n",
    "print(stepCounts)"
   ]
  },
  {
   "cell_type": "code",
   "execution_count": 18,
   "id": "4efdb292",
   "metadata": {
    "collapsed": false,
    "execution": {
     "iopub.execute_input": "2023-03-26T18:23:29.478113Z",
     "iopub.status.busy": "2023-03-26T18:23:29.477586Z",
     "iopub.status.idle": "2023-03-26T18:23:29.493371Z",
     "shell.execute_reply": "2023-03-26T18:23:29.491996Z"
    },
    "jupyter": {
     "outputs_hidden": false
    },
    "papermill": {
     "duration": 0.029813,
     "end_time": "2023-03-26T18:23:29.496373",
     "exception": false,
     "start_time": "2023-03-26T18:23:29.466560",
     "status": "completed"
    },
    "pycharm": {
     "name": "#%%\n"
    },
    "tags": []
   },
   "outputs": [],
   "source": [
    "# Write the detected step counts into a .csv file to then upload the .csv file to Kaggle\n",
    "# When cross-checking the .csv file on your computer, we recommend using the text editor and NOT excel so that the results are displayed correctly\n",
    "# IMPORTANT: Do NOT change the name of the columns ('Id' and 'Predicted') of the .csv file\n",
    "df = pd.DataFrame({'Id':ids,'Predicted':stepCounts})\n",
    "df.to_csv('/kaggle/working/submission.csv', index=False)"
   ]
  }
 ],
 "metadata": {
  "kernelspec": {
   "display_name": "Python 3",
   "language": "python",
   "name": "python3"
  },
  "language_info": {
   "codemirror_mode": {
    "name": "ipython",
    "version": 3
   },
   "file_extension": ".py",
   "mimetype": "text/x-python",
   "name": "python",
   "nbconvert_exporter": "python",
   "pygments_lexer": "ipython3",
   "version": "3.7.12"
  },
  "papermill": {
   "default_parameters": {},
   "duration": 24.927465,
   "end_time": "2023-03-26T18:23:31.235287",
   "environment_variables": {},
   "exception": null,
   "input_path": "__notebook__.ipynb",
   "output_path": "__notebook__.ipynb",
   "parameters": {},
   "start_time": "2023-03-26T18:23:06.307822",
   "version": "2.4.0"
  }
 },
 "nbformat": 4,
 "nbformat_minor": 5
}
